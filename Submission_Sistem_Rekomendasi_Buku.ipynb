{
  "nbformat": 4,
  "nbformat_minor": 0,
  "metadata": {
    "colab": {
      "provenance": [],
      "gpuType": "T4",
      "toc_visible": true
    },
    "kernelspec": {
      "name": "python3",
      "display_name": "Python 3"
    },
    "language_info": {
      "name": "python"
    },
    "accelerator": "GPU"
  },
  "cells": [
    {
      "cell_type": "markdown",
      "source": [
        "# Import Library"
      ],
      "metadata": {
        "id": "OJGK5Iabu86H"
      }
    },
    {
      "cell_type": "markdown",
      "source": [
        "Menginstall library scikit-surprise dan downgrade numpy ke versi 1.23.5 agar kompatibel dengan scikit-surprise\n",
        "\n",
        "setelah install restart session lalu run ulang lagi dan cancel jika sudah restart session"
      ],
      "metadata": {
        "id": "A79j3O1UXdx2"
      }
    },
    {
      "cell_type": "code",
      "source": [
        "# Uninstall numpy versi terbaru\n",
        "!pip uninstall -y numpy\n",
        "\n",
        "# # Lalu install lagi numpy yang kompatibel dengan scikit-surprise\n",
        "!pip install numpy==1.23.5\n",
        "\n",
        "# Menggunakan versi numpy yang kemungkinan kompatibel dengan scikit-surprise\n",
        "!pip install scikit-surprise\n"
      ],
      "metadata": {
        "colab": {
          "base_uri": "https://localhost:8080/",
          "height": 600
        },
        "id": "xHqO5NPaNJXN",
        "outputId": "0d339d67-ef0b-4231-8bfb-b6fa535d1328"
      },
      "execution_count": 33,
      "outputs": [
        {
          "output_type": "stream",
          "name": "stdout",
          "text": [
            "Found existing installation: numpy 1.23.5\n",
            "Uninstalling numpy-1.23.5:\n",
            "  Successfully uninstalled numpy-1.23.5\n",
            "Collecting numpy==1.23.5\n",
            "  Using cached numpy-1.23.5-cp311-cp311-manylinux_2_17_x86_64.manylinux2014_x86_64.whl.metadata (2.3 kB)\n",
            "Using cached numpy-1.23.5-cp311-cp311-manylinux_2_17_x86_64.manylinux2014_x86_64.whl (17.1 MB)\n",
            "Installing collected packages: numpy\n",
            "\u001b[31mERROR: pip's dependency resolver does not currently take into account all the packages that are installed. This behaviour is the source of the following dependency conflicts.\n",
            "tensorflow 2.18.0 requires numpy<2.1.0,>=1.26.0, but you have numpy 1.23.5 which is incompatible.\n",
            "albumentations 2.0.7 requires numpy>=1.24.4, but you have numpy 1.23.5 which is incompatible.\n",
            "imbalanced-learn 0.13.0 requires numpy<3,>=1.24.3, but you have numpy 1.23.5 which is incompatible.\n",
            "db-dtypes 1.4.3 requires numpy>=1.24.0, but you have numpy 1.23.5 which is incompatible.\n",
            "albucore 0.0.24 requires numpy>=1.24.4, but you have numpy 1.23.5 which is incompatible.\n",
            "treescope 0.1.9 requires numpy>=1.25.2, but you have numpy 1.23.5 which is incompatible.\n",
            "blosc2 3.3.3 requires numpy>=1.26, but you have numpy 1.23.5 which is incompatible.\n",
            "bigframes 2.4.0 requires numpy>=1.24.0, but you have numpy 1.23.5 which is incompatible.\n",
            "pymc 5.22.0 requires numpy>=1.25.0, but you have numpy 1.23.5 which is incompatible.\n",
            "thinc 8.3.6 requires numpy<3.0.0,>=2.0.0, but you have numpy 1.23.5 which is incompatible.\n",
            "xarray 2025.3.1 requires numpy>=1.24, but you have numpy 1.23.5 which is incompatible.\n",
            "jax 0.5.2 requires numpy>=1.25, but you have numpy 1.23.5 which is incompatible.\n",
            "jaxlib 0.5.1 requires numpy>=1.25, but you have numpy 1.23.5 which is incompatible.\n",
            "scikit-image 0.25.2 requires numpy>=1.24, but you have numpy 1.23.5 which is incompatible.\n",
            "chex 0.1.89 requires numpy>=1.24.1, but you have numpy 1.23.5 which is incompatible.\u001b[0m\u001b[31m\n",
            "\u001b[0mSuccessfully installed numpy-1.23.5\n"
          ]
        },
        {
          "output_type": "display_data",
          "data": {
            "application/vnd.colab-display-data+json": {
              "pip_warning": {
                "packages": [
                  "numpy"
                ]
              },
              "id": "2b5b4731e30c4f358aaecb64543a5ac0"
            }
          },
          "metadata": {}
        },
        {
          "output_type": "stream",
          "name": "stdout",
          "text": [
            "Requirement already satisfied: scikit-surprise in /usr/local/lib/python3.11/dist-packages (1.1.4)\n",
            "Requirement already satisfied: joblib>=1.2.0 in /usr/local/lib/python3.11/dist-packages (from scikit-surprise) (1.5.0)\n",
            "Requirement already satisfied: numpy>=1.19.5 in /usr/local/lib/python3.11/dist-packages (from scikit-surprise) (1.23.5)\n",
            "Requirement already satisfied: scipy>=1.6.0 in /usr/local/lib/python3.11/dist-packages (from scikit-surprise) (1.15.3)\n"
          ]
        }
      ]
    },
    {
      "cell_type": "markdown",
      "source": [
        "Tahap pertama adalah mengimport semua library yang akan di pakai"
      ],
      "metadata": {
        "id": "DraqSj0PvCN1"
      }
    },
    {
      "cell_type": "code",
      "execution_count": 34,
      "metadata": {
        "id": "i31Onpqdr9R5",
        "colab": {
          "base_uri": "https://localhost:8080/"
        },
        "outputId": "1fc972eb-ca14-4558-f9b3-c50e7c2e314c"
      },
      "outputs": [
        {
          "output_type": "stream",
          "name": "stdout",
          "text": [
            "Library berhasil di Import\n"
          ]
        }
      ],
      "source": [
        "import pandas as pd\n",
        "import numpy as np\n",
        "from sklearn.feature_extraction.text import TfidfVectorizer\n",
        "from sklearn.metrics.pairwise import cosine_similarity\n",
        "from surprise import Reader, Dataset, SVD, accuracy\n",
        "from surprise.model_selection import train_test_split\n",
        "import matplotlib.pyplot as plt\n",
        "import seaborn as sns\n",
        "from collections import defaultdict\n",
        "\n",
        "print(\"Library berhasil di Import\")"
      ]
    },
    {
      "cell_type": "code",
      "source": [
        "from google.colab import drive\n",
        "drive.mount('/content/drive')"
      ],
      "metadata": {
        "id": "WUHOsgCbv-EJ",
        "colab": {
          "base_uri": "https://localhost:8080/"
        },
        "outputId": "295ebfac-f37a-4c54-e3be-1bf22cc81f50"
      },
      "execution_count": 35,
      "outputs": [
        {
          "output_type": "stream",
          "name": "stdout",
          "text": [
            "Drive already mounted at /content/drive; to attempt to forcibly remount, call drive.mount(\"/content/drive\", force_remount=True).\n"
          ]
        }
      ]
    },
    {
      "cell_type": "markdown",
      "source": [
        "# **1. DATA LOADING**"
      ],
      "metadata": {
        "id": "mAmVJGoNfJP4"
      }
    },
    {
      "cell_type": "markdown",
      "source": [
        "Dataset Book Crossing dimuat kedalam DataFrame pandas. Dataset ini terdiri dari beberapa file CSV diantaranya:\n",
        "- `BX-Book-Ratings.csv`: Berisi informasi mengenai rating buku oleh user\n",
        "- `BX-Books.csv`: Berisi informasi tentang detail buku\n",
        "- `BX-Users.csv`: Berisi informasi tentang pengguna\n"
      ],
      "metadata": {
        "id": "pNLaXqpdfM6d"
      }
    },
    {
      "cell_type": "code",
      "source": [
        "# Load dataset\n",
        "print('--- Load Dataset ---')\n",
        "ratings = pd.read_csv('/content/drive/MyDrive/Dataset/Dataset_buku/BX-Book-Ratings.csv', encoding='latin1', sep=';',on_bad_lines='skip')\n",
        "books = pd.read_csv('/content/drive/MyDrive/Dataset/Dataset_buku/BX-Books.csv', encoding='latin1', sep=';',on_bad_lines='skip')\n",
        "users = pd.read_csv('/content/drive/MyDrive/Dataset/Dataset_buku/BX-Users.csv', encoding='latin1', sep=';',on_bad_lines='skip')\n",
        "print('\\n--- Dataset Berhasil di Load ---')"
      ],
      "metadata": {
        "id": "pqLS-n0Qv843",
        "colab": {
          "base_uri": "https://localhost:8080/"
        },
        "outputId": "dabb7a20-0ba2-43f3-8bdc-a2e2ae02d76d"
      },
      "execution_count": 36,
      "outputs": [
        {
          "output_type": "stream",
          "name": "stdout",
          "text": [
            "--- Load Dataset ---\n"
          ]
        },
        {
          "output_type": "stream",
          "name": "stderr",
          "text": [
            "<ipython-input-36-6d0fdeae7e52>:4: DtypeWarning: Columns (3) have mixed types. Specify dtype option on import or set low_memory=False.\n",
            "  books = pd.read_csv('/content/drive/MyDrive/Dataset/Dataset_buku/BX-Books.csv', encoding='latin1', sep=';',on_bad_lines='skip')\n"
          ]
        },
        {
          "output_type": "stream",
          "name": "stdout",
          "text": [
            "\n",
            "--- Dataset Berhasil di Load ---\n"
          ]
        }
      ]
    },
    {
      "cell_type": "markdown",
      "source": [
        "Membaca dataset\n",
        "- dataset memiliki encoding karakter yang tidak kompatibel dengan default `utf-8`. sehingga dataset dibaca dengan menambahkan `encoding='latin1'`\n",
        "- mengganti delimiter dengan `';'`\n",
        "- dataset tidak sepenuhnya terload karena ada beberapa data yang rusak, jadi disini memakai `on_bad_lines='skip'` agar data yang tidak bisa di load di lewati"
      ],
      "metadata": {
        "id": "GRXG25hwoXNE"
      }
    },
    {
      "cell_type": "markdown",
      "source": [
        "# **2. DATA UNDERSTANDING**"
      ],
      "metadata": {
        "id": "Z0w5LLccpxFr"
      }
    },
    {
      "cell_type": "markdown",
      "source": [
        "Pada tahap ini, dilakukan Exploratory Data Analysis (EDA) untuk memahami struktur data dan memperoleh insight dari data\n",
        "\n",
        "Langkah langkah EDA antara lain:\n",
        "- menampilkan informasi data untuk memahami struktur data, jumlah data, tipe data, serta jumlah nilai non-null menggunakan `.info()`\n",
        "- Menampilkan beberapa baris pertama dataset menggunakan `.head()`\n",
        "- Menghitung statistik dasar seperti jumlah pengguna unik, jumlah buku unik, dan jumlah total rating.\n",
        "- Membuat visualisasi distribusi rating, usia pengguna, tahun terbit buku dll.\n"
      ],
      "metadata": {
        "id": "alPGtFZCub_c"
      }
    },
    {
      "cell_type": "markdown",
      "source": [
        "## **2.1. Menampilkan Informasi Struktur Dataset**"
      ],
      "metadata": {
        "id": "E_aRveHu0jmz"
      }
    },
    {
      "cell_type": "markdown",
      "source": [
        "Menggunakan fungsi `.info()` untuk memahami struktur data"
      ],
      "metadata": {
        "id": "dP3Zqrxe02jU"
      }
    },
    {
      "cell_type": "code",
      "source": [
        "# Menampilkan info dataset\n",
        "print(' --- Rating Dataset --- ')\n",
        "ratings.info()\n",
        "print('\\n --- Book Dataset --- ')\n",
        "books.info()\n",
        "print('\\n --- User Dataset --- ')\n",
        "users.info()"
      ],
      "metadata": {
        "id": "9V2FobiZpc4M",
        "colab": {
          "base_uri": "https://localhost:8080/"
        },
        "outputId": "eca80604-19cc-4d08-e128-ff08fe04332d"
      },
      "execution_count": 37,
      "outputs": [
        {
          "output_type": "stream",
          "name": "stdout",
          "text": [
            " --- Rating Dataset --- \n",
            "<class 'pandas.core.frame.DataFrame'>\n",
            "RangeIndex: 1149780 entries, 0 to 1149779\n",
            "Data columns (total 3 columns):\n",
            " #   Column       Non-Null Count    Dtype \n",
            "---  ------       --------------    ----- \n",
            " 0   User-ID      1149780 non-null  int64 \n",
            " 1   ISBN         1149780 non-null  object\n",
            " 2   Book-Rating  1149780 non-null  int64 \n",
            "dtypes: int64(2), object(1)\n",
            "memory usage: 26.3+ MB\n",
            "\n",
            " --- Book Dataset --- \n",
            "<class 'pandas.core.frame.DataFrame'>\n",
            "RangeIndex: 271360 entries, 0 to 271359\n",
            "Data columns (total 8 columns):\n",
            " #   Column               Non-Null Count   Dtype \n",
            "---  ------               --------------   ----- \n",
            " 0   ISBN                 271360 non-null  object\n",
            " 1   Book-Title           271360 non-null  object\n",
            " 2   Book-Author          271358 non-null  object\n",
            " 3   Year-Of-Publication  271360 non-null  object\n",
            " 4   Publisher            271358 non-null  object\n",
            " 5   Image-URL-S          271360 non-null  object\n",
            " 6   Image-URL-M          271360 non-null  object\n",
            " 7   Image-URL-L          271357 non-null  object\n",
            "dtypes: object(8)\n",
            "memory usage: 16.6+ MB\n",
            "\n",
            " --- User Dataset --- \n",
            "<class 'pandas.core.frame.DataFrame'>\n",
            "RangeIndex: 278858 entries, 0 to 278857\n",
            "Data columns (total 3 columns):\n",
            " #   Column    Non-Null Count   Dtype  \n",
            "---  ------    --------------   -----  \n",
            " 0   User-ID   278858 non-null  int64  \n",
            " 1   Location  278858 non-null  object \n",
            " 2   Age       168096 non-null  float64\n",
            "dtypes: float64(1), int64(1), object(1)\n",
            "memory usage: 6.4+ MB\n"
          ]
        }
      ]
    },
    {
      "cell_type": "markdown",
      "source": [
        "Dari Informasi dataset diatas\n",
        "\n",
        "1. Rating Dataset\n",
        "\n",
        "  - Jumlah Data: Terdapat 1.149.780 entri rating, yang menunjukkan dataset rating yang cukup besar.\n",
        "  - Kelengkapan Data:\n",
        "    - `User-ID`: (1.149.780 non-null). Tipe datanya `int64`.\n",
        "    - `ISBN`: (1.149.780 non-null). Tipe datanya `object` (string).\n",
        "    - `Book-Rating`: (1.149.780 non-null). Tipe datanya `int64`.\n",
        "\n",
        "  Dari data rating tidak terdapat nilai yang hilang dan tipe datanya sesuai\n",
        "\n",
        "2. Book Dataset\n",
        "  \n",
        "  - Jumlah Data: Terdapat 271.360 entri buku.\n",
        "  - Kelengkapan Data:\n",
        "    - `ISBN`, `Book-Title`, `Image-URL-S`, `Image-URL-M`: Lengkap.\n",
        "    - `Book-Author`: terdapat missing value dalam data (271.358 non-null dari 271.360).\n",
        "    - `Publisher`: terdapat missing value (271.358 non-null dari 271.360). Perlu penanganan seperti `Book-Author`.\n",
        "    - `Image-URL-L`: Sedikit data hilang (271.357 non-null dari 271.360). Kolom URL gambar mungkin tidak krusial untuk model rekomendasi, sehingga nantinya kolom ini tidak akan dipakai atau di hapus.\n",
        "\n",
        "  - Tipe Data:\n",
        "    - Semua kolom bertipe object (string).\n",
        "    - **Perhatian Khusus**: `Year-Of-Publication` bertipe `object`. Ini sangat mungkin berarti ada nilai non-numerik di dalamnya (misalnya, teks atau format tahun yang salah). Kolom ini perlu dibersihkan dan dikonversi ke tipe numerik (`integer`) agar bisa digunakan untuk analisis atau sebagai fitur.    \n",
        "\n",
        "3. User Dataset\n",
        "  \n",
        "  - Jumlah Data: Terdapat 278.858 entri pengguna.\n",
        "  - Kelengkapan Data:\n",
        "    - `User-ID`: Lengkap (278.858 non-null). Tipe datanya `int64`.\n",
        "    - `Location`: Lengkap (278.858 non-null). Tipe datanya `object`.\n",
        "    - `Age`: Banyak data hilang (hanya 168.096 non-null dari 278.858). Ini berarti sekitar 39.7% data usia hilang. Perlu  penanganan yang cermat.\n",
        "  - Tipe Data:\n",
        "    - `Age` bertipe `float64`. seharusnya `int`."
      ],
      "metadata": {
        "id": "sqtTGDnCvG9g"
      }
    },
    {
      "cell_type": "code",
      "source": [
        "# Menampilkan 5 baris awal data rating\n",
        "print(' --- Rating Dataset ---')\n",
        "ratings.head(5)\n"
      ],
      "metadata": {
        "colab": {
          "base_uri": "https://localhost:8080/",
          "height": 224
        },
        "id": "BkHl2QEEuy_E",
        "outputId": "42c2f2cc-f23a-4bed-cf03-ce6dba902a2c"
      },
      "execution_count": 38,
      "outputs": [
        {
          "output_type": "stream",
          "name": "stdout",
          "text": [
            " --- Rating Dataset ---\n"
          ]
        },
        {
          "output_type": "execute_result",
          "data": {
            "text/plain": [
              "   User-ID        ISBN  Book-Rating\n",
              "0   276725  034545104X            0\n",
              "1   276726  0155061224            5\n",
              "2   276727  0446520802            0\n",
              "3   276729  052165615X            3\n",
              "4   276729  0521795028            6"
            ],
            "text/html": [
              "\n",
              "  <div id=\"df-f62527c4-50fc-4b8b-a28a-823ea60ba9d6\" class=\"colab-df-container\">\n",
              "    <div>\n",
              "<style scoped>\n",
              "    .dataframe tbody tr th:only-of-type {\n",
              "        vertical-align: middle;\n",
              "    }\n",
              "\n",
              "    .dataframe tbody tr th {\n",
              "        vertical-align: top;\n",
              "    }\n",
              "\n",
              "    .dataframe thead th {\n",
              "        text-align: right;\n",
              "    }\n",
              "</style>\n",
              "<table border=\"1\" class=\"dataframe\">\n",
              "  <thead>\n",
              "    <tr style=\"text-align: right;\">\n",
              "      <th></th>\n",
              "      <th>User-ID</th>\n",
              "      <th>ISBN</th>\n",
              "      <th>Book-Rating</th>\n",
              "    </tr>\n",
              "  </thead>\n",
              "  <tbody>\n",
              "    <tr>\n",
              "      <th>0</th>\n",
              "      <td>276725</td>\n",
              "      <td>034545104X</td>\n",
              "      <td>0</td>\n",
              "    </tr>\n",
              "    <tr>\n",
              "      <th>1</th>\n",
              "      <td>276726</td>\n",
              "      <td>0155061224</td>\n",
              "      <td>5</td>\n",
              "    </tr>\n",
              "    <tr>\n",
              "      <th>2</th>\n",
              "      <td>276727</td>\n",
              "      <td>0446520802</td>\n",
              "      <td>0</td>\n",
              "    </tr>\n",
              "    <tr>\n",
              "      <th>3</th>\n",
              "      <td>276729</td>\n",
              "      <td>052165615X</td>\n",
              "      <td>3</td>\n",
              "    </tr>\n",
              "    <tr>\n",
              "      <th>4</th>\n",
              "      <td>276729</td>\n",
              "      <td>0521795028</td>\n",
              "      <td>6</td>\n",
              "    </tr>\n",
              "  </tbody>\n",
              "</table>\n",
              "</div>\n",
              "    <div class=\"colab-df-buttons\">\n",
              "\n",
              "  <div class=\"colab-df-container\">\n",
              "    <button class=\"colab-df-convert\" onclick=\"convertToInteractive('df-f62527c4-50fc-4b8b-a28a-823ea60ba9d6')\"\n",
              "            title=\"Convert this dataframe to an interactive table.\"\n",
              "            style=\"display:none;\">\n",
              "\n",
              "  <svg xmlns=\"http://www.w3.org/2000/svg\" height=\"24px\" viewBox=\"0 -960 960 960\">\n",
              "    <path d=\"M120-120v-720h720v720H120Zm60-500h600v-160H180v160Zm220 220h160v-160H400v160Zm0 220h160v-160H400v160ZM180-400h160v-160H180v160Zm440 0h160v-160H620v160ZM180-180h160v-160H180v160Zm440 0h160v-160H620v160Z\"/>\n",
              "  </svg>\n",
              "    </button>\n",
              "\n",
              "  <style>\n",
              "    .colab-df-container {\n",
              "      display:flex;\n",
              "      gap: 12px;\n",
              "    }\n",
              "\n",
              "    .colab-df-convert {\n",
              "      background-color: #E8F0FE;\n",
              "      border: none;\n",
              "      border-radius: 50%;\n",
              "      cursor: pointer;\n",
              "      display: none;\n",
              "      fill: #1967D2;\n",
              "      height: 32px;\n",
              "      padding: 0 0 0 0;\n",
              "      width: 32px;\n",
              "    }\n",
              "\n",
              "    .colab-df-convert:hover {\n",
              "      background-color: #E2EBFA;\n",
              "      box-shadow: 0px 1px 2px rgba(60, 64, 67, 0.3), 0px 1px 3px 1px rgba(60, 64, 67, 0.15);\n",
              "      fill: #174EA6;\n",
              "    }\n",
              "\n",
              "    .colab-df-buttons div {\n",
              "      margin-bottom: 4px;\n",
              "    }\n",
              "\n",
              "    [theme=dark] .colab-df-convert {\n",
              "      background-color: #3B4455;\n",
              "      fill: #D2E3FC;\n",
              "    }\n",
              "\n",
              "    [theme=dark] .colab-df-convert:hover {\n",
              "      background-color: #434B5C;\n",
              "      box-shadow: 0px 1px 3px 1px rgba(0, 0, 0, 0.15);\n",
              "      filter: drop-shadow(0px 1px 2px rgba(0, 0, 0, 0.3));\n",
              "      fill: #FFFFFF;\n",
              "    }\n",
              "  </style>\n",
              "\n",
              "    <script>\n",
              "      const buttonEl =\n",
              "        document.querySelector('#df-f62527c4-50fc-4b8b-a28a-823ea60ba9d6 button.colab-df-convert');\n",
              "      buttonEl.style.display =\n",
              "        google.colab.kernel.accessAllowed ? 'block' : 'none';\n",
              "\n",
              "      async function convertToInteractive(key) {\n",
              "        const element = document.querySelector('#df-f62527c4-50fc-4b8b-a28a-823ea60ba9d6');\n",
              "        const dataTable =\n",
              "          await google.colab.kernel.invokeFunction('convertToInteractive',\n",
              "                                                    [key], {});\n",
              "        if (!dataTable) return;\n",
              "\n",
              "        const docLinkHtml = 'Like what you see? Visit the ' +\n",
              "          '<a target=\"_blank\" href=https://colab.research.google.com/notebooks/data_table.ipynb>data table notebook</a>'\n",
              "          + ' to learn more about interactive tables.';\n",
              "        element.innerHTML = '';\n",
              "        dataTable['output_type'] = 'display_data';\n",
              "        await google.colab.output.renderOutput(dataTable, element);\n",
              "        const docLink = document.createElement('div');\n",
              "        docLink.innerHTML = docLinkHtml;\n",
              "        element.appendChild(docLink);\n",
              "      }\n",
              "    </script>\n",
              "  </div>\n",
              "\n",
              "\n",
              "    <div id=\"df-98085d2f-5ed8-4b02-bd1d-ab8577f246ba\">\n",
              "      <button class=\"colab-df-quickchart\" onclick=\"quickchart('df-98085d2f-5ed8-4b02-bd1d-ab8577f246ba')\"\n",
              "                title=\"Suggest charts\"\n",
              "                style=\"display:none;\">\n",
              "\n",
              "<svg xmlns=\"http://www.w3.org/2000/svg\" height=\"24px\"viewBox=\"0 0 24 24\"\n",
              "     width=\"24px\">\n",
              "    <g>\n",
              "        <path d=\"M19 3H5c-1.1 0-2 .9-2 2v14c0 1.1.9 2 2 2h14c1.1 0 2-.9 2-2V5c0-1.1-.9-2-2-2zM9 17H7v-7h2v7zm4 0h-2V7h2v10zm4 0h-2v-4h2v4z\"/>\n",
              "    </g>\n",
              "</svg>\n",
              "      </button>\n",
              "\n",
              "<style>\n",
              "  .colab-df-quickchart {\n",
              "      --bg-color: #E8F0FE;\n",
              "      --fill-color: #1967D2;\n",
              "      --hover-bg-color: #E2EBFA;\n",
              "      --hover-fill-color: #174EA6;\n",
              "      --disabled-fill-color: #AAA;\n",
              "      --disabled-bg-color: #DDD;\n",
              "  }\n",
              "\n",
              "  [theme=dark] .colab-df-quickchart {\n",
              "      --bg-color: #3B4455;\n",
              "      --fill-color: #D2E3FC;\n",
              "      --hover-bg-color: #434B5C;\n",
              "      --hover-fill-color: #FFFFFF;\n",
              "      --disabled-bg-color: #3B4455;\n",
              "      --disabled-fill-color: #666;\n",
              "  }\n",
              "\n",
              "  .colab-df-quickchart {\n",
              "    background-color: var(--bg-color);\n",
              "    border: none;\n",
              "    border-radius: 50%;\n",
              "    cursor: pointer;\n",
              "    display: none;\n",
              "    fill: var(--fill-color);\n",
              "    height: 32px;\n",
              "    padding: 0;\n",
              "    width: 32px;\n",
              "  }\n",
              "\n",
              "  .colab-df-quickchart:hover {\n",
              "    background-color: var(--hover-bg-color);\n",
              "    box-shadow: 0 1px 2px rgba(60, 64, 67, 0.3), 0 1px 3px 1px rgba(60, 64, 67, 0.15);\n",
              "    fill: var(--button-hover-fill-color);\n",
              "  }\n",
              "\n",
              "  .colab-df-quickchart-complete:disabled,\n",
              "  .colab-df-quickchart-complete:disabled:hover {\n",
              "    background-color: var(--disabled-bg-color);\n",
              "    fill: var(--disabled-fill-color);\n",
              "    box-shadow: none;\n",
              "  }\n",
              "\n",
              "  .colab-df-spinner {\n",
              "    border: 2px solid var(--fill-color);\n",
              "    border-color: transparent;\n",
              "    border-bottom-color: var(--fill-color);\n",
              "    animation:\n",
              "      spin 1s steps(1) infinite;\n",
              "  }\n",
              "\n",
              "  @keyframes spin {\n",
              "    0% {\n",
              "      border-color: transparent;\n",
              "      border-bottom-color: var(--fill-color);\n",
              "      border-left-color: var(--fill-color);\n",
              "    }\n",
              "    20% {\n",
              "      border-color: transparent;\n",
              "      border-left-color: var(--fill-color);\n",
              "      border-top-color: var(--fill-color);\n",
              "    }\n",
              "    30% {\n",
              "      border-color: transparent;\n",
              "      border-left-color: var(--fill-color);\n",
              "      border-top-color: var(--fill-color);\n",
              "      border-right-color: var(--fill-color);\n",
              "    }\n",
              "    40% {\n",
              "      border-color: transparent;\n",
              "      border-right-color: var(--fill-color);\n",
              "      border-top-color: var(--fill-color);\n",
              "    }\n",
              "    60% {\n",
              "      border-color: transparent;\n",
              "      border-right-color: var(--fill-color);\n",
              "    }\n",
              "    80% {\n",
              "      border-color: transparent;\n",
              "      border-right-color: var(--fill-color);\n",
              "      border-bottom-color: var(--fill-color);\n",
              "    }\n",
              "    90% {\n",
              "      border-color: transparent;\n",
              "      border-bottom-color: var(--fill-color);\n",
              "    }\n",
              "  }\n",
              "</style>\n",
              "\n",
              "      <script>\n",
              "        async function quickchart(key) {\n",
              "          const quickchartButtonEl =\n",
              "            document.querySelector('#' + key + ' button');\n",
              "          quickchartButtonEl.disabled = true;  // To prevent multiple clicks.\n",
              "          quickchartButtonEl.classList.add('colab-df-spinner');\n",
              "          try {\n",
              "            const charts = await google.colab.kernel.invokeFunction(\n",
              "                'suggestCharts', [key], {});\n",
              "          } catch (error) {\n",
              "            console.error('Error during call to suggestCharts:', error);\n",
              "          }\n",
              "          quickchartButtonEl.classList.remove('colab-df-spinner');\n",
              "          quickchartButtonEl.classList.add('colab-df-quickchart-complete');\n",
              "        }\n",
              "        (() => {\n",
              "          let quickchartButtonEl =\n",
              "            document.querySelector('#df-98085d2f-5ed8-4b02-bd1d-ab8577f246ba button');\n",
              "          quickchartButtonEl.style.display =\n",
              "            google.colab.kernel.accessAllowed ? 'block' : 'none';\n",
              "        })();\n",
              "      </script>\n",
              "    </div>\n",
              "\n",
              "    </div>\n",
              "  </div>\n"
            ],
            "application/vnd.google.colaboratory.intrinsic+json": {
              "type": "dataframe",
              "variable_name": "ratings"
            }
          },
          "metadata": {},
          "execution_count": 38
        }
      ]
    },
    {
      "cell_type": "code",
      "source": [
        "# Menampilkan 5 baris awal data buku\n",
        "print(' --- Book Dataset ---')\n",
        "books.head(5)"
      ],
      "metadata": {
        "colab": {
          "base_uri": "https://localhost:8080/",
          "height": 293
        },
        "id": "6ii6kASG52Pf",
        "outputId": "b8fc04cd-fcbc-4976-ff35-8484220325f5"
      },
      "execution_count": 39,
      "outputs": [
        {
          "output_type": "stream",
          "name": "stdout",
          "text": [
            " --- Book Dataset ---\n"
          ]
        },
        {
          "output_type": "execute_result",
          "data": {
            "text/plain": [
              "         ISBN                                         Book-Title  \\\n",
              "0  0195153448                                Classical Mythology   \n",
              "1  0002005018                                       Clara Callan   \n",
              "2  0060973129                               Decision in Normandy   \n",
              "3  0374157065  Flu: The Story of the Great Influenza Pandemic...   \n",
              "4  0393045218                             The Mummies of Urumchi   \n",
              "\n",
              "            Book-Author Year-Of-Publication                   Publisher  \\\n",
              "0    Mark P. O. Morford                2002     Oxford University Press   \n",
              "1  Richard Bruce Wright                2001       HarperFlamingo Canada   \n",
              "2          Carlo D'Este                1991             HarperPerennial   \n",
              "3      Gina Bari Kolata                1999        Farrar Straus Giroux   \n",
              "4       E. J. W. Barber                1999  W. W. Norton &amp; Company   \n",
              "\n",
              "                                         Image-URL-S  \\\n",
              "0  http://images.amazon.com/images/P/0195153448.0...   \n",
              "1  http://images.amazon.com/images/P/0002005018.0...   \n",
              "2  http://images.amazon.com/images/P/0060973129.0...   \n",
              "3  http://images.amazon.com/images/P/0374157065.0...   \n",
              "4  http://images.amazon.com/images/P/0393045218.0...   \n",
              "\n",
              "                                         Image-URL-M  \\\n",
              "0  http://images.amazon.com/images/P/0195153448.0...   \n",
              "1  http://images.amazon.com/images/P/0002005018.0...   \n",
              "2  http://images.amazon.com/images/P/0060973129.0...   \n",
              "3  http://images.amazon.com/images/P/0374157065.0...   \n",
              "4  http://images.amazon.com/images/P/0393045218.0...   \n",
              "\n",
              "                                         Image-URL-L  \n",
              "0  http://images.amazon.com/images/P/0195153448.0...  \n",
              "1  http://images.amazon.com/images/P/0002005018.0...  \n",
              "2  http://images.amazon.com/images/P/0060973129.0...  \n",
              "3  http://images.amazon.com/images/P/0374157065.0...  \n",
              "4  http://images.amazon.com/images/P/0393045218.0...  "
            ],
            "text/html": [
              "\n",
              "  <div id=\"df-a25e96bb-d666-45e2-b52b-c067d4a0d967\" class=\"colab-df-container\">\n",
              "    <div>\n",
              "<style scoped>\n",
              "    .dataframe tbody tr th:only-of-type {\n",
              "        vertical-align: middle;\n",
              "    }\n",
              "\n",
              "    .dataframe tbody tr th {\n",
              "        vertical-align: top;\n",
              "    }\n",
              "\n",
              "    .dataframe thead th {\n",
              "        text-align: right;\n",
              "    }\n",
              "</style>\n",
              "<table border=\"1\" class=\"dataframe\">\n",
              "  <thead>\n",
              "    <tr style=\"text-align: right;\">\n",
              "      <th></th>\n",
              "      <th>ISBN</th>\n",
              "      <th>Book-Title</th>\n",
              "      <th>Book-Author</th>\n",
              "      <th>Year-Of-Publication</th>\n",
              "      <th>Publisher</th>\n",
              "      <th>Image-URL-S</th>\n",
              "      <th>Image-URL-M</th>\n",
              "      <th>Image-URL-L</th>\n",
              "    </tr>\n",
              "  </thead>\n",
              "  <tbody>\n",
              "    <tr>\n",
              "      <th>0</th>\n",
              "      <td>0195153448</td>\n",
              "      <td>Classical Mythology</td>\n",
              "      <td>Mark P. O. Morford</td>\n",
              "      <td>2002</td>\n",
              "      <td>Oxford University Press</td>\n",
              "      <td>http://images.amazon.com/images/P/0195153448.0...</td>\n",
              "      <td>http://images.amazon.com/images/P/0195153448.0...</td>\n",
              "      <td>http://images.amazon.com/images/P/0195153448.0...</td>\n",
              "    </tr>\n",
              "    <tr>\n",
              "      <th>1</th>\n",
              "      <td>0002005018</td>\n",
              "      <td>Clara Callan</td>\n",
              "      <td>Richard Bruce Wright</td>\n",
              "      <td>2001</td>\n",
              "      <td>HarperFlamingo Canada</td>\n",
              "      <td>http://images.amazon.com/images/P/0002005018.0...</td>\n",
              "      <td>http://images.amazon.com/images/P/0002005018.0...</td>\n",
              "      <td>http://images.amazon.com/images/P/0002005018.0...</td>\n",
              "    </tr>\n",
              "    <tr>\n",
              "      <th>2</th>\n",
              "      <td>0060973129</td>\n",
              "      <td>Decision in Normandy</td>\n",
              "      <td>Carlo D'Este</td>\n",
              "      <td>1991</td>\n",
              "      <td>HarperPerennial</td>\n",
              "      <td>http://images.amazon.com/images/P/0060973129.0...</td>\n",
              "      <td>http://images.amazon.com/images/P/0060973129.0...</td>\n",
              "      <td>http://images.amazon.com/images/P/0060973129.0...</td>\n",
              "    </tr>\n",
              "    <tr>\n",
              "      <th>3</th>\n",
              "      <td>0374157065</td>\n",
              "      <td>Flu: The Story of the Great Influenza Pandemic...</td>\n",
              "      <td>Gina Bari Kolata</td>\n",
              "      <td>1999</td>\n",
              "      <td>Farrar Straus Giroux</td>\n",
              "      <td>http://images.amazon.com/images/P/0374157065.0...</td>\n",
              "      <td>http://images.amazon.com/images/P/0374157065.0...</td>\n",
              "      <td>http://images.amazon.com/images/P/0374157065.0...</td>\n",
              "    </tr>\n",
              "    <tr>\n",
              "      <th>4</th>\n",
              "      <td>0393045218</td>\n",
              "      <td>The Mummies of Urumchi</td>\n",
              "      <td>E. J. W. Barber</td>\n",
              "      <td>1999</td>\n",
              "      <td>W. W. Norton &amp;amp; Company</td>\n",
              "      <td>http://images.amazon.com/images/P/0393045218.0...</td>\n",
              "      <td>http://images.amazon.com/images/P/0393045218.0...</td>\n",
              "      <td>http://images.amazon.com/images/P/0393045218.0...</td>\n",
              "    </tr>\n",
              "  </tbody>\n",
              "</table>\n",
              "</div>\n",
              "    <div class=\"colab-df-buttons\">\n",
              "\n",
              "  <div class=\"colab-df-container\">\n",
              "    <button class=\"colab-df-convert\" onclick=\"convertToInteractive('df-a25e96bb-d666-45e2-b52b-c067d4a0d967')\"\n",
              "            title=\"Convert this dataframe to an interactive table.\"\n",
              "            style=\"display:none;\">\n",
              "\n",
              "  <svg xmlns=\"http://www.w3.org/2000/svg\" height=\"24px\" viewBox=\"0 -960 960 960\">\n",
              "    <path d=\"M120-120v-720h720v720H120Zm60-500h600v-160H180v160Zm220 220h160v-160H400v160Zm0 220h160v-160H400v160ZM180-400h160v-160H180v160Zm440 0h160v-160H620v160ZM180-180h160v-160H180v160Zm440 0h160v-160H620v160Z\"/>\n",
              "  </svg>\n",
              "    </button>\n",
              "\n",
              "  <style>\n",
              "    .colab-df-container {\n",
              "      display:flex;\n",
              "      gap: 12px;\n",
              "    }\n",
              "\n",
              "    .colab-df-convert {\n",
              "      background-color: #E8F0FE;\n",
              "      border: none;\n",
              "      border-radius: 50%;\n",
              "      cursor: pointer;\n",
              "      display: none;\n",
              "      fill: #1967D2;\n",
              "      height: 32px;\n",
              "      padding: 0 0 0 0;\n",
              "      width: 32px;\n",
              "    }\n",
              "\n",
              "    .colab-df-convert:hover {\n",
              "      background-color: #E2EBFA;\n",
              "      box-shadow: 0px 1px 2px rgba(60, 64, 67, 0.3), 0px 1px 3px 1px rgba(60, 64, 67, 0.15);\n",
              "      fill: #174EA6;\n",
              "    }\n",
              "\n",
              "    .colab-df-buttons div {\n",
              "      margin-bottom: 4px;\n",
              "    }\n",
              "\n",
              "    [theme=dark] .colab-df-convert {\n",
              "      background-color: #3B4455;\n",
              "      fill: #D2E3FC;\n",
              "    }\n",
              "\n",
              "    [theme=dark] .colab-df-convert:hover {\n",
              "      background-color: #434B5C;\n",
              "      box-shadow: 0px 1px 3px 1px rgba(0, 0, 0, 0.15);\n",
              "      filter: drop-shadow(0px 1px 2px rgba(0, 0, 0, 0.3));\n",
              "      fill: #FFFFFF;\n",
              "    }\n",
              "  </style>\n",
              "\n",
              "    <script>\n",
              "      const buttonEl =\n",
              "        document.querySelector('#df-a25e96bb-d666-45e2-b52b-c067d4a0d967 button.colab-df-convert');\n",
              "      buttonEl.style.display =\n",
              "        google.colab.kernel.accessAllowed ? 'block' : 'none';\n",
              "\n",
              "      async function convertToInteractive(key) {\n",
              "        const element = document.querySelector('#df-a25e96bb-d666-45e2-b52b-c067d4a0d967');\n",
              "        const dataTable =\n",
              "          await google.colab.kernel.invokeFunction('convertToInteractive',\n",
              "                                                    [key], {});\n",
              "        if (!dataTable) return;\n",
              "\n",
              "        const docLinkHtml = 'Like what you see? Visit the ' +\n",
              "          '<a target=\"_blank\" href=https://colab.research.google.com/notebooks/data_table.ipynb>data table notebook</a>'\n",
              "          + ' to learn more about interactive tables.';\n",
              "        element.innerHTML = '';\n",
              "        dataTable['output_type'] = 'display_data';\n",
              "        await google.colab.output.renderOutput(dataTable, element);\n",
              "        const docLink = document.createElement('div');\n",
              "        docLink.innerHTML = docLinkHtml;\n",
              "        element.appendChild(docLink);\n",
              "      }\n",
              "    </script>\n",
              "  </div>\n",
              "\n",
              "\n",
              "    <div id=\"df-95a127ad-b337-4325-98be-9d0cfb649192\">\n",
              "      <button class=\"colab-df-quickchart\" onclick=\"quickchart('df-95a127ad-b337-4325-98be-9d0cfb649192')\"\n",
              "                title=\"Suggest charts\"\n",
              "                style=\"display:none;\">\n",
              "\n",
              "<svg xmlns=\"http://www.w3.org/2000/svg\" height=\"24px\"viewBox=\"0 0 24 24\"\n",
              "     width=\"24px\">\n",
              "    <g>\n",
              "        <path d=\"M19 3H5c-1.1 0-2 .9-2 2v14c0 1.1.9 2 2 2h14c1.1 0 2-.9 2-2V5c0-1.1-.9-2-2-2zM9 17H7v-7h2v7zm4 0h-2V7h2v10zm4 0h-2v-4h2v4z\"/>\n",
              "    </g>\n",
              "</svg>\n",
              "      </button>\n",
              "\n",
              "<style>\n",
              "  .colab-df-quickchart {\n",
              "      --bg-color: #E8F0FE;\n",
              "      --fill-color: #1967D2;\n",
              "      --hover-bg-color: #E2EBFA;\n",
              "      --hover-fill-color: #174EA6;\n",
              "      --disabled-fill-color: #AAA;\n",
              "      --disabled-bg-color: #DDD;\n",
              "  }\n",
              "\n",
              "  [theme=dark] .colab-df-quickchart {\n",
              "      --bg-color: #3B4455;\n",
              "      --fill-color: #D2E3FC;\n",
              "      --hover-bg-color: #434B5C;\n",
              "      --hover-fill-color: #FFFFFF;\n",
              "      --disabled-bg-color: #3B4455;\n",
              "      --disabled-fill-color: #666;\n",
              "  }\n",
              "\n",
              "  .colab-df-quickchart {\n",
              "    background-color: var(--bg-color);\n",
              "    border: none;\n",
              "    border-radius: 50%;\n",
              "    cursor: pointer;\n",
              "    display: none;\n",
              "    fill: var(--fill-color);\n",
              "    height: 32px;\n",
              "    padding: 0;\n",
              "    width: 32px;\n",
              "  }\n",
              "\n",
              "  .colab-df-quickchart:hover {\n",
              "    background-color: var(--hover-bg-color);\n",
              "    box-shadow: 0 1px 2px rgba(60, 64, 67, 0.3), 0 1px 3px 1px rgba(60, 64, 67, 0.15);\n",
              "    fill: var(--button-hover-fill-color);\n",
              "  }\n",
              "\n",
              "  .colab-df-quickchart-complete:disabled,\n",
              "  .colab-df-quickchart-complete:disabled:hover {\n",
              "    background-color: var(--disabled-bg-color);\n",
              "    fill: var(--disabled-fill-color);\n",
              "    box-shadow: none;\n",
              "  }\n",
              "\n",
              "  .colab-df-spinner {\n",
              "    border: 2px solid var(--fill-color);\n",
              "    border-color: transparent;\n",
              "    border-bottom-color: var(--fill-color);\n",
              "    animation:\n",
              "      spin 1s steps(1) infinite;\n",
              "  }\n",
              "\n",
              "  @keyframes spin {\n",
              "    0% {\n",
              "      border-color: transparent;\n",
              "      border-bottom-color: var(--fill-color);\n",
              "      border-left-color: var(--fill-color);\n",
              "    }\n",
              "    20% {\n",
              "      border-color: transparent;\n",
              "      border-left-color: var(--fill-color);\n",
              "      border-top-color: var(--fill-color);\n",
              "    }\n",
              "    30% {\n",
              "      border-color: transparent;\n",
              "      border-left-color: var(--fill-color);\n",
              "      border-top-color: var(--fill-color);\n",
              "      border-right-color: var(--fill-color);\n",
              "    }\n",
              "    40% {\n",
              "      border-color: transparent;\n",
              "      border-right-color: var(--fill-color);\n",
              "      border-top-color: var(--fill-color);\n",
              "    }\n",
              "    60% {\n",
              "      border-color: transparent;\n",
              "      border-right-color: var(--fill-color);\n",
              "    }\n",
              "    80% {\n",
              "      border-color: transparent;\n",
              "      border-right-color: var(--fill-color);\n",
              "      border-bottom-color: var(--fill-color);\n",
              "    }\n",
              "    90% {\n",
              "      border-color: transparent;\n",
              "      border-bottom-color: var(--fill-color);\n",
              "    }\n",
              "  }\n",
              "</style>\n",
              "\n",
              "      <script>\n",
              "        async function quickchart(key) {\n",
              "          const quickchartButtonEl =\n",
              "            document.querySelector('#' + key + ' button');\n",
              "          quickchartButtonEl.disabled = true;  // To prevent multiple clicks.\n",
              "          quickchartButtonEl.classList.add('colab-df-spinner');\n",
              "          try {\n",
              "            const charts = await google.colab.kernel.invokeFunction(\n",
              "                'suggestCharts', [key], {});\n",
              "          } catch (error) {\n",
              "            console.error('Error during call to suggestCharts:', error);\n",
              "          }\n",
              "          quickchartButtonEl.classList.remove('colab-df-spinner');\n",
              "          quickchartButtonEl.classList.add('colab-df-quickchart-complete');\n",
              "        }\n",
              "        (() => {\n",
              "          let quickchartButtonEl =\n",
              "            document.querySelector('#df-95a127ad-b337-4325-98be-9d0cfb649192 button');\n",
              "          quickchartButtonEl.style.display =\n",
              "            google.colab.kernel.accessAllowed ? 'block' : 'none';\n",
              "        })();\n",
              "      </script>\n",
              "    </div>\n",
              "\n",
              "    </div>\n",
              "  </div>\n"
            ],
            "application/vnd.google.colaboratory.intrinsic+json": {
              "type": "dataframe",
              "variable_name": "books"
            }
          },
          "metadata": {},
          "execution_count": 39
        }
      ]
    },
    {
      "cell_type": "code",
      "source": [
        "# Menampilkan 5 baris awal data user\n",
        "print(' --- User Dataset ---')\n",
        "users.head(5)"
      ],
      "metadata": {
        "colab": {
          "base_uri": "https://localhost:8080/",
          "height": 224
        },
        "id": "_Qw00Qd-6Jfh",
        "outputId": "9db3da23-44bd-458e-aa8b-c5c44c638ec8"
      },
      "execution_count": 40,
      "outputs": [
        {
          "output_type": "stream",
          "name": "stdout",
          "text": [
            " --- User Dataset ---\n"
          ]
        },
        {
          "output_type": "execute_result",
          "data": {
            "text/plain": [
              "   User-ID                            Location   Age\n",
              "0        1                  nyc, new york, usa   NaN\n",
              "1        2           stockton, california, usa  18.0\n",
              "2        3     moscow, yukon territory, russia   NaN\n",
              "3        4           porto, v.n.gaia, portugal  17.0\n",
              "4        5  farnborough, hants, united kingdom   NaN"
            ],
            "text/html": [
              "\n",
              "  <div id=\"df-cc870d89-4e5f-47f7-94b7-f3cf7c53bccc\" class=\"colab-df-container\">\n",
              "    <div>\n",
              "<style scoped>\n",
              "    .dataframe tbody tr th:only-of-type {\n",
              "        vertical-align: middle;\n",
              "    }\n",
              "\n",
              "    .dataframe tbody tr th {\n",
              "        vertical-align: top;\n",
              "    }\n",
              "\n",
              "    .dataframe thead th {\n",
              "        text-align: right;\n",
              "    }\n",
              "</style>\n",
              "<table border=\"1\" class=\"dataframe\">\n",
              "  <thead>\n",
              "    <tr style=\"text-align: right;\">\n",
              "      <th></th>\n",
              "      <th>User-ID</th>\n",
              "      <th>Location</th>\n",
              "      <th>Age</th>\n",
              "    </tr>\n",
              "  </thead>\n",
              "  <tbody>\n",
              "    <tr>\n",
              "      <th>0</th>\n",
              "      <td>1</td>\n",
              "      <td>nyc, new york, usa</td>\n",
              "      <td>NaN</td>\n",
              "    </tr>\n",
              "    <tr>\n",
              "      <th>1</th>\n",
              "      <td>2</td>\n",
              "      <td>stockton, california, usa</td>\n",
              "      <td>18.0</td>\n",
              "    </tr>\n",
              "    <tr>\n",
              "      <th>2</th>\n",
              "      <td>3</td>\n",
              "      <td>moscow, yukon territory, russia</td>\n",
              "      <td>NaN</td>\n",
              "    </tr>\n",
              "    <tr>\n",
              "      <th>3</th>\n",
              "      <td>4</td>\n",
              "      <td>porto, v.n.gaia, portugal</td>\n",
              "      <td>17.0</td>\n",
              "    </tr>\n",
              "    <tr>\n",
              "      <th>4</th>\n",
              "      <td>5</td>\n",
              "      <td>farnborough, hants, united kingdom</td>\n",
              "      <td>NaN</td>\n",
              "    </tr>\n",
              "  </tbody>\n",
              "</table>\n",
              "</div>\n",
              "    <div class=\"colab-df-buttons\">\n",
              "\n",
              "  <div class=\"colab-df-container\">\n",
              "    <button class=\"colab-df-convert\" onclick=\"convertToInteractive('df-cc870d89-4e5f-47f7-94b7-f3cf7c53bccc')\"\n",
              "            title=\"Convert this dataframe to an interactive table.\"\n",
              "            style=\"display:none;\">\n",
              "\n",
              "  <svg xmlns=\"http://www.w3.org/2000/svg\" height=\"24px\" viewBox=\"0 -960 960 960\">\n",
              "    <path d=\"M120-120v-720h720v720H120Zm60-500h600v-160H180v160Zm220 220h160v-160H400v160Zm0 220h160v-160H400v160ZM180-400h160v-160H180v160Zm440 0h160v-160H620v160ZM180-180h160v-160H180v160Zm440 0h160v-160H620v160Z\"/>\n",
              "  </svg>\n",
              "    </button>\n",
              "\n",
              "  <style>\n",
              "    .colab-df-container {\n",
              "      display:flex;\n",
              "      gap: 12px;\n",
              "    }\n",
              "\n",
              "    .colab-df-convert {\n",
              "      background-color: #E8F0FE;\n",
              "      border: none;\n",
              "      border-radius: 50%;\n",
              "      cursor: pointer;\n",
              "      display: none;\n",
              "      fill: #1967D2;\n",
              "      height: 32px;\n",
              "      padding: 0 0 0 0;\n",
              "      width: 32px;\n",
              "    }\n",
              "\n",
              "    .colab-df-convert:hover {\n",
              "      background-color: #E2EBFA;\n",
              "      box-shadow: 0px 1px 2px rgba(60, 64, 67, 0.3), 0px 1px 3px 1px rgba(60, 64, 67, 0.15);\n",
              "      fill: #174EA6;\n",
              "    }\n",
              "\n",
              "    .colab-df-buttons div {\n",
              "      margin-bottom: 4px;\n",
              "    }\n",
              "\n",
              "    [theme=dark] .colab-df-convert {\n",
              "      background-color: #3B4455;\n",
              "      fill: #D2E3FC;\n",
              "    }\n",
              "\n",
              "    [theme=dark] .colab-df-convert:hover {\n",
              "      background-color: #434B5C;\n",
              "      box-shadow: 0px 1px 3px 1px rgba(0, 0, 0, 0.15);\n",
              "      filter: drop-shadow(0px 1px 2px rgba(0, 0, 0, 0.3));\n",
              "      fill: #FFFFFF;\n",
              "    }\n",
              "  </style>\n",
              "\n",
              "    <script>\n",
              "      const buttonEl =\n",
              "        document.querySelector('#df-cc870d89-4e5f-47f7-94b7-f3cf7c53bccc button.colab-df-convert');\n",
              "      buttonEl.style.display =\n",
              "        google.colab.kernel.accessAllowed ? 'block' : 'none';\n",
              "\n",
              "      async function convertToInteractive(key) {\n",
              "        const element = document.querySelector('#df-cc870d89-4e5f-47f7-94b7-f3cf7c53bccc');\n",
              "        const dataTable =\n",
              "          await google.colab.kernel.invokeFunction('convertToInteractive',\n",
              "                                                    [key], {});\n",
              "        if (!dataTable) return;\n",
              "\n",
              "        const docLinkHtml = 'Like what you see? Visit the ' +\n",
              "          '<a target=\"_blank\" href=https://colab.research.google.com/notebooks/data_table.ipynb>data table notebook</a>'\n",
              "          + ' to learn more about interactive tables.';\n",
              "        element.innerHTML = '';\n",
              "        dataTable['output_type'] = 'display_data';\n",
              "        await google.colab.output.renderOutput(dataTable, element);\n",
              "        const docLink = document.createElement('div');\n",
              "        docLink.innerHTML = docLinkHtml;\n",
              "        element.appendChild(docLink);\n",
              "      }\n",
              "    </script>\n",
              "  </div>\n",
              "\n",
              "\n",
              "    <div id=\"df-8bb83e35-6fe8-4ed3-84e9-b73534409879\">\n",
              "      <button class=\"colab-df-quickchart\" onclick=\"quickchart('df-8bb83e35-6fe8-4ed3-84e9-b73534409879')\"\n",
              "                title=\"Suggest charts\"\n",
              "                style=\"display:none;\">\n",
              "\n",
              "<svg xmlns=\"http://www.w3.org/2000/svg\" height=\"24px\"viewBox=\"0 0 24 24\"\n",
              "     width=\"24px\">\n",
              "    <g>\n",
              "        <path d=\"M19 3H5c-1.1 0-2 .9-2 2v14c0 1.1.9 2 2 2h14c1.1 0 2-.9 2-2V5c0-1.1-.9-2-2-2zM9 17H7v-7h2v7zm4 0h-2V7h2v10zm4 0h-2v-4h2v4z\"/>\n",
              "    </g>\n",
              "</svg>\n",
              "      </button>\n",
              "\n",
              "<style>\n",
              "  .colab-df-quickchart {\n",
              "      --bg-color: #E8F0FE;\n",
              "      --fill-color: #1967D2;\n",
              "      --hover-bg-color: #E2EBFA;\n",
              "      --hover-fill-color: #174EA6;\n",
              "      --disabled-fill-color: #AAA;\n",
              "      --disabled-bg-color: #DDD;\n",
              "  }\n",
              "\n",
              "  [theme=dark] .colab-df-quickchart {\n",
              "      --bg-color: #3B4455;\n",
              "      --fill-color: #D2E3FC;\n",
              "      --hover-bg-color: #434B5C;\n",
              "      --hover-fill-color: #FFFFFF;\n",
              "      --disabled-bg-color: #3B4455;\n",
              "      --disabled-fill-color: #666;\n",
              "  }\n",
              "\n",
              "  .colab-df-quickchart {\n",
              "    background-color: var(--bg-color);\n",
              "    border: none;\n",
              "    border-radius: 50%;\n",
              "    cursor: pointer;\n",
              "    display: none;\n",
              "    fill: var(--fill-color);\n",
              "    height: 32px;\n",
              "    padding: 0;\n",
              "    width: 32px;\n",
              "  }\n",
              "\n",
              "  .colab-df-quickchart:hover {\n",
              "    background-color: var(--hover-bg-color);\n",
              "    box-shadow: 0 1px 2px rgba(60, 64, 67, 0.3), 0 1px 3px 1px rgba(60, 64, 67, 0.15);\n",
              "    fill: var(--button-hover-fill-color);\n",
              "  }\n",
              "\n",
              "  .colab-df-quickchart-complete:disabled,\n",
              "  .colab-df-quickchart-complete:disabled:hover {\n",
              "    background-color: var(--disabled-bg-color);\n",
              "    fill: var(--disabled-fill-color);\n",
              "    box-shadow: none;\n",
              "  }\n",
              "\n",
              "  .colab-df-spinner {\n",
              "    border: 2px solid var(--fill-color);\n",
              "    border-color: transparent;\n",
              "    border-bottom-color: var(--fill-color);\n",
              "    animation:\n",
              "      spin 1s steps(1) infinite;\n",
              "  }\n",
              "\n",
              "  @keyframes spin {\n",
              "    0% {\n",
              "      border-color: transparent;\n",
              "      border-bottom-color: var(--fill-color);\n",
              "      border-left-color: var(--fill-color);\n",
              "    }\n",
              "    20% {\n",
              "      border-color: transparent;\n",
              "      border-left-color: var(--fill-color);\n",
              "      border-top-color: var(--fill-color);\n",
              "    }\n",
              "    30% {\n",
              "      border-color: transparent;\n",
              "      border-left-color: var(--fill-color);\n",
              "      border-top-color: var(--fill-color);\n",
              "      border-right-color: var(--fill-color);\n",
              "    }\n",
              "    40% {\n",
              "      border-color: transparent;\n",
              "      border-right-color: var(--fill-color);\n",
              "      border-top-color: var(--fill-color);\n",
              "    }\n",
              "    60% {\n",
              "      border-color: transparent;\n",
              "      border-right-color: var(--fill-color);\n",
              "    }\n",
              "    80% {\n",
              "      border-color: transparent;\n",
              "      border-right-color: var(--fill-color);\n",
              "      border-bottom-color: var(--fill-color);\n",
              "    }\n",
              "    90% {\n",
              "      border-color: transparent;\n",
              "      border-bottom-color: var(--fill-color);\n",
              "    }\n",
              "  }\n",
              "</style>\n",
              "\n",
              "      <script>\n",
              "        async function quickchart(key) {\n",
              "          const quickchartButtonEl =\n",
              "            document.querySelector('#' + key + ' button');\n",
              "          quickchartButtonEl.disabled = true;  // To prevent multiple clicks.\n",
              "          quickchartButtonEl.classList.add('colab-df-spinner');\n",
              "          try {\n",
              "            const charts = await google.colab.kernel.invokeFunction(\n",
              "                'suggestCharts', [key], {});\n",
              "          } catch (error) {\n",
              "            console.error('Error during call to suggestCharts:', error);\n",
              "          }\n",
              "          quickchartButtonEl.classList.remove('colab-df-spinner');\n",
              "          quickchartButtonEl.classList.add('colab-df-quickchart-complete');\n",
              "        }\n",
              "        (() => {\n",
              "          let quickchartButtonEl =\n",
              "            document.querySelector('#df-8bb83e35-6fe8-4ed3-84e9-b73534409879 button');\n",
              "          quickchartButtonEl.style.display =\n",
              "            google.colab.kernel.accessAllowed ? 'block' : 'none';\n",
              "        })();\n",
              "      </script>\n",
              "    </div>\n",
              "\n",
              "    </div>\n",
              "  </div>\n"
            ],
            "application/vnd.google.colaboratory.intrinsic+json": {
              "type": "dataframe",
              "variable_name": "users"
            }
          },
          "metadata": {},
          "execution_count": 40
        }
      ]
    },
    {
      "cell_type": "markdown",
      "source": [
        "## **2.2. Visualisasi Distribusi Usia Pengguna (Sebelum pembersihan)**"
      ],
      "metadata": {
        "id": "wNbgh2c6uXmC"
      }
    },
    {
      "cell_type": "code",
      "source": [
        "# Set style for better visuals\n",
        "sns.set(style=\"whitegrid\")\n",
        "\n",
        "# Plot distribusi umur sebelum pembersihan\n",
        "plt.figure(figsize=(12, 6))\n",
        "sns.histplot(users['Age'], bins=50, kde=True, color='skyblue')\n",
        "plt.title(\"Distribusi Umur Pengguna (Sebelum Pembersihan)\")\n",
        "plt.xlabel(\"Umur\")\n",
        "plt.ylabel(\"Jumlah Pengguna\")\n",
        "plt.xlim(0, 100)  # Fokus pada rentang yang wajar\n",
        "plt.tight_layout()\n",
        "plt.show()"
      ],
      "metadata": {
        "id": "pdonpU1tv-Z-",
        "colab": {
          "base_uri": "https://localhost:8080/",
          "height": 601
        },
        "outputId": "3abde054-609e-47ac-bfc3-eba592e0ca9a"
      },
      "execution_count": 41,
      "outputs": [
        {
          "output_type": "display_data",
          "data": {
            "text/plain": [
              "<Figure size 1200x600 with 1 Axes>"
            ],
            "image/png": "[encoded data removed]"
          },
          "metadata": {}
        }
      ]
    },
    {
      "cell_type": "markdown",
      "source": [
        "- Mayoritas pengguna berusia antara 15 hingga 50 tahun.\n",
        "\n",
        "- Ada outlier di bawah 5 tahun dan di atas 100 tahun (termasuk 0 dan 244), yang tampaknya tidak valid.\n",
        "\n",
        "Selanjutnya:\n",
        "data usia yang tidak valid akan di bersihkan dengan cara:\n",
        "\n",
        "- Menjadikan NaN jika usia < 5 atau > 100\n",
        "\n",
        "- Lalu, kita bisa imputasi NaN dengan median atau membiarkannya tergantung kebutuhan."
      ],
      "metadata": {
        "id": "fyxTBD0Iv9lQ"
      }
    },
    {
      "cell_type": "markdown",
      "source": [
        "## **2.3. Distribusi Tahun terbit buku**"
      ],
      "metadata": {
        "id": "g_40yfCG6UGa"
      }
    },
    {
      "cell_type": "code",
      "source": [
        "books['Year-Of-Publication'] = pd.to_numeric(books['Year-Of-Publication'], errors='coerce')\n",
        "\n",
        "plt.figure(figsize=(12, 6))\n",
        "sns.histplot(books['Year-Of-Publication'].dropna(), bins=50, color='orange')\n",
        "plt.title(\"Distribusi Tahun Terbit Buku\")\n",
        "plt.xlabel(\"Tahun Terbit\")\n",
        "plt.ylabel(\"Jumlah Buku\")\n",
        "plt.xlim(1900, 2025)\n",
        "plt.tight_layout()\n",
        "plt.show()"
      ],
      "metadata": {
        "colab": {
          "base_uri": "https://localhost:8080/",
          "height": 601
        },
        "id": "tSE4r3IH6cJA",
        "outputId": "d6e01a23-b40a-4bd0-df62-ff8f4198f57b"
      },
      "execution_count": 42,
      "outputs": [
        {
          "output_type": "display_data",
          "data": {
            "text/plain": [
              "<Figure size 1200x600 with 1 Axes>"
            ],
            "image/png": "[encoded data removed]"
          },
          "metadata": {}
        }
      ]
    },
    {
      "cell_type": "markdown",
      "source": [
        "- Sebagian besar buku terbit antara 1950–2005.\n",
        "\n",
        "- Terdapat nilai tidak valid seperti:\n",
        "\n",
        "  - Tahun 0\n",
        "\n",
        "  - Tahun lebih dari 2025\n",
        "\n",
        "- Hal ini menunjukkan adanya noise yang perlu dibersihkan sebelum analisis atau sistem rekomendasi dilakukan."
      ],
      "metadata": {
        "id": "wyJmvaT07G_q"
      }
    },
    {
      "cell_type": "markdown",
      "source": [
        "## **2.4. Buku terbanyak per penerbit**"
      ],
      "metadata": {
        "id": "TckU_AEX7J6U"
      }
    },
    {
      "cell_type": "code",
      "source": [
        "top_publishers = books['Publisher'].value_counts().head(10)\n",
        "\n",
        "sns.barplot(x=top_publishers.values, y=top_publishers.index, palette='magma')\n",
        "plt.title(\"Top 10 Publisher dengan Jumlah Buku Terbanyak\")\n",
        "plt.xlabel(\"Jumlah Buku\")\n",
        "plt.ylabel(\"Publisher\")\n",
        "plt.tight_layout()\n",
        "plt.show()\n"
      ],
      "metadata": {
        "colab": {
          "base_uri": "https://localhost:8080/",
          "height": 568
        },
        "id": "OCmVE3WX7Ssn",
        "outputId": "a210790e-b3c2-40d6-ae87-5f097f60e396"
      },
      "execution_count": 43,
      "outputs": [
        {
          "output_type": "stream",
          "name": "stderr",
          "text": [
            "<ipython-input-43-310fd7a7713c>:3: FutureWarning: \n",
            "\n",
            "Passing `palette` without assigning `hue` is deprecated and will be removed in v0.14.0. Assign the `y` variable to `hue` and set `legend=False` for the same effect.\n",
            "\n",
            "  sns.barplot(x=top_publishers.values, y=top_publishers.index, palette='magma')\n"
          ]
        },
        {
          "output_type": "display_data",
          "data": {
            "text/plain": [
              "<Figure size 640x480 with 1 Axes>"
            ],
            "image/png": "[encoded data removed]"
          },
          "metadata": {}
        }
      ]
    },
    {
      "cell_type": "markdown",
      "source": [
        "- Beberapa penerbit besar seperti Harlequin, Penguin Books, atau Scholastic Inc. mendominasi jumlah buku.\n"
      ],
      "metadata": {
        "id": "A3sE5lqr-4B7"
      }
    },
    {
      "cell_type": "markdown",
      "source": [
        "## **2.5. Distribusi Ratings**"
      ],
      "metadata": {
        "id": "nU2Qmt057du8"
      }
    },
    {
      "cell_type": "code",
      "source": [
        "sns.countplot(x='Book-Rating', data=ratings, palette='coolwarm')\n",
        "plt.title(\"Distribusi Nilai Rating Buku\")\n",
        "plt.xlabel(\"Nilai Rating\")\n",
        "plt.ylabel(\"Jumlah\")\n",
        "plt.tight_layout()\n",
        "plt.show()"
      ],
      "metadata": {
        "colab": {
          "base_uri": "https://localhost:8080/",
          "height": 568
        },
        "id": "sbD3s9fA7gv-",
        "outputId": "8f2a7464-6759-4abc-cf06-e5ecc0ac7d8c"
      },
      "execution_count": 44,
      "outputs": [
        {
          "output_type": "stream",
          "name": "stderr",
          "text": [
            "<ipython-input-44-0b22444a274c>:1: FutureWarning: \n",
            "\n",
            "Passing `palette` without assigning `hue` is deprecated and will be removed in v0.14.0. Assign the `x` variable to `hue` and set `legend=False` for the same effect.\n",
            "\n",
            "  sns.countplot(x='Book-Rating', data=ratings, palette='coolwarm')\n"
          ]
        },
        {
          "output_type": "display_data",
          "data": {
            "text/plain": [
              "<Figure size 640x480 with 1 Axes>"
            ],
            "image/png": "[encoded data removed]"
          },
          "metadata": {}
        }
      ]
    },
    {
      "cell_type": "markdown",
      "source": [
        "- Rating 0 sangat mendominasi → ini kemungkinan besar bukan rating nyata, tetapi interaksi tanpa evaluasi (implicit feedback).\n",
        "\n",
        "- Rentang rating 1–10 cukup bervariasi dan menunjukkan penggunaan eksplisit sistem rating.\n"
      ],
      "metadata": {
        "id": "t8sBusa77pIG"
      }
    },
    {
      "cell_type": "markdown",
      "source": [
        "# **3. Data Preparation**"
      ],
      "metadata": {
        "id": "2zlGLi4jYLDj"
      }
    },
    {
      "cell_type": "markdown",
      "source": [
        "#### **3.1. Penyesuaian Nama Kolom**"
      ],
      "metadata": {
        "id": "g_7xVnL7rrY0"
      }
    },
    {
      "cell_type": "code",
      "source": [
        "# --- Penyesuaian Nama Kolom agar konsisten---\n",
        "print(\"\\n--- Menyesuaikan Nama Kolom ---\")\n",
        "users.columns = ['User_ID', 'Location', 'Age']\n",
        "books.columns = ['ISBN', 'Book_Title', 'Book_Author', 'Year_Of_Publication', 'Publisher', 'Image_URL_S', 'Image_URL_M', 'Image_URL_L']\n",
        "ratings.columns = ['User_ID', 'ISBN', 'Book_Rating']\n",
        "\n",
        "print(\"Nama kolom Users:\", users.columns.tolist())\n",
        "print(\"Nama kolom Books:\", books.columns.tolist())\n",
        "print(\"Nama kolom Ratings:\", ratings.columns.tolist())"
      ],
      "metadata": {
        "colab": {
          "base_uri": "https://localhost:8080/"
        },
        "id": "HktSNvzJryDz",
        "outputId": "19c6bee2-86a0-4187-c895-9015438bad14"
      },
      "execution_count": 45,
      "outputs": [
        {
          "output_type": "stream",
          "name": "stdout",
          "text": [
            "\n",
            "--- Menyesuaikan Nama Kolom ---\n",
            "Nama kolom Users: ['User_ID', 'Location', 'Age']\n",
            "Nama kolom Books: ['ISBN', 'Book_Title', 'Book_Author', 'Year_Of_Publication', 'Publisher', 'Image_URL_S', 'Image_URL_M', 'Image_URL_L']\n",
            "Nama kolom Ratings: ['User_ID', 'ISBN', 'Book_Rating']\n"
          ]
        }
      ]
    },
    {
      "cell_type": "markdown",
      "source": [
        "- Konsistensi nama kolom sangat penting untuk meningkatkan keterbacaan dan mempermudah pengolahan data.\n",
        "\n",
        "- Kolom dibuat seragam agar mudah dipahami juga dan mengurangi kemungkinan error saat join, merge, dan transformasi data."
      ],
      "metadata": {
        "id": "fnRzQ6a-DqWW"
      }
    },
    {
      "cell_type": "markdown",
      "source": [
        "#### **3.2. Membersihkan Dataset Books**"
      ],
      "metadata": {
        "id": "MGV7xDAJtJ0z"
      }
    },
    {
      "cell_type": "code",
      "source": [
        "print(f\"Jumlah data Books Sebelum persiapan: {books.shape}\")"
      ],
      "metadata": {
        "id": "wBfmfAcO3vHe",
        "colab": {
          "base_uri": "https://localhost:8080/"
        },
        "outputId": "716cfbc8-f627-43ae-ed37-c431d11504e3"
      },
      "execution_count": 46,
      "outputs": [
        {
          "output_type": "stream",
          "name": "stdout",
          "text": [
            "Jumlah data Books Sebelum persiapan: (271360, 8)\n"
          ]
        }
      ]
    },
    {
      "cell_type": "markdown",
      "source": [
        "###### **3.2.1. Menghapus kolom URL**"
      ],
      "metadata": {
        "id": "08qiXTE3ud6Q"
      }
    },
    {
      "cell_type": "markdown",
      "source": [
        "Kolom URL gambar dihapus karena tidak berkontribusi langsung terhadap rekomendasi berbasis rating atau konten"
      ],
      "metadata": {
        "id": "fK-Gg47AuG4v"
      }
    },
    {
      "cell_type": "code",
      "source": [
        "# Menghapus kolom URL gambar\n",
        "books.drop(['Image_URL_S', 'Image_URL_M', 'Image_URL_L'], axis=1, inplace=True)\n",
        "print(\"Kolom URL gambar dihapus.\")"
      ],
      "metadata": {
        "colab": {
          "base_uri": "https://localhost:8080/"
        },
        "id": "_t8KkQZltu4O",
        "outputId": "d643ef61-a36c-41f4-b114-466def3a8f0f"
      },
      "execution_count": 47,
      "outputs": [
        {
          "output_type": "stream",
          "name": "stdout",
          "text": [
            "Kolom URL gambar dihapus.\n"
          ]
        }
      ]
    },
    {
      "cell_type": "markdown",
      "source": [
        "###### **3.2.2. Menangani Missing Value**"
      ],
      "metadata": {
        "id": "qvS0lKaauo2A"
      }
    },
    {
      "cell_type": "markdown",
      "source": [
        "Menghapus missing value pada kolom books_Author dan Publisher"
      ],
      "metadata": {
        "id": "Ty7KVZ4ZuSxc"
      }
    },
    {
      "cell_type": "code",
      "source": [
        "# Book-Author dan Publisher (hanya sedikit missing values)\n",
        "print(f\"Missing values di Book_Author sebelum penghapusan: {books['Book_Author'].isnull().sum()}\")\n",
        "print(f\"Missing values di Publisher sebelum penghapusan: {books['Publisher'].isnull().sum()}\")\n",
        "\n",
        "books.dropna(subset=['Book_Author', 'Publisher'], inplace=True) # Menghapus baris dengan missing values\n",
        "\n",
        "print(f\"Missing values di Book_Author setelah penghapusan: {books['Book_Author'].isnull().sum()}\")\n",
        "print(f\"Missing values di Publisher setelah penghapusan: {books['Publisher'].isnull().sum()}\")\n"
      ],
      "metadata": {
        "colab": {
          "base_uri": "https://localhost:8080/"
        },
        "id": "uHL3GWGrtTI_",
        "outputId": "f5e7afba-0066-4d5f-ee46-497ed5a0da61"
      },
      "execution_count": 48,
      "outputs": [
        {
          "output_type": "stream",
          "name": "stdout",
          "text": [
            "Missing values di Book_Author sebelum penghapusan: 2\n",
            "Missing values di Publisher sebelum penghapusan: 2\n",
            "Missing values di Book_Author setelah penghapusan: 0\n",
            "Missing values di Publisher setelah penghapusan: 0\n"
          ]
        }
      ]
    },
    {
      "cell_type": "markdown",
      "source": [
        "Karena jumlah data kosong kecil, jadi lebih baik langsung dihapus untuk menjaga kualitas data."
      ],
      "metadata": {
        "id": "1FGCzHavYEbE"
      }
    },
    {
      "cell_type": "markdown",
      "source": [
        "###### **3.2.3. Mengubah tipe data**"
      ],
      "metadata": {
        "id": "Dtyphy4NvRMz"
      }
    },
    {
      "cell_type": "markdown",
      "source": [
        "Mengubah tipe data Year_Of_Publication ke integer agar data bisa diproses,"
      ],
      "metadata": {
        "id": "AMWKc1V6w4P2"
      }
    },
    {
      "cell_type": "code",
      "source": [
        "# Year-Of-Publication\n",
        "print(f\"Tipe data Year_Of_Publication sebelum: {books['Year_Of_Publication'].dtype}\")\n",
        "\n",
        "# Konversi ke numerik, paksa error menjadi NaN\n",
        "books['Year_Of_Publication'] = pd.to_numeric(books['Year_Of_Publication'], errors='coerce')\n",
        "\n",
        "# Hapus baris dengan NaN di Year_Of_Publication setelah konversi (jika ada yang tidak bisa dikonversi)\n",
        "books.dropna(subset=['Year_Of_Publication'], inplace=True)\n",
        "\n",
        "# Ubah ke integer\n",
        "books['Year_Of_Publication'] = books['Year_Of_Publication'].astype(int)\n",
        "\n",
        "print(f\"Tipe data Year_Of_Publication setelah: {books['Year_Of_Publication'].dtype}\")\n",
        "\n"
      ],
      "metadata": {
        "colab": {
          "base_uri": "https://localhost:8080/"
        },
        "id": "8GisjO7RvMO7",
        "outputId": "92016918-c9ce-46f6-eeb8-54036a882ca5"
      },
      "execution_count": 49,
      "outputs": [
        {
          "output_type": "stream",
          "name": "stdout",
          "text": [
            "Tipe data Year_Of_Publication sebelum: float64\n",
            "Tipe data Year_Of_Publication setelah: int64\n"
          ]
        }
      ]
    },
    {
      "cell_type": "markdown",
      "source": [
        "###### **3.2.4. Menangani Outliers**"
      ],
      "metadata": {
        "id": "QTeVy4io2LoG"
      }
    },
    {
      "cell_type": "markdown",
      "source": [
        "- Membersihkan rentang tahun sebelum 1900 dan setelah masa kini, meningkatkan validitas fitur dan mencegah noise dalam data.\n",
        "\n",
        "Ini juga penting untuk analisis tren penerbitan buku dari waktu ke waktu."
      ],
      "metadata": {
        "id": "FJzjAPi8Z23e"
      }
    },
    {
      "cell_type": "code",
      "source": [
        "# Membersihkan tahun yang tidak valid\n",
        "current_year = pd.to_datetime('today').year\n",
        "\n",
        "# Asumsi buku tidak diterbitkan sebelum tahun 1900 Masehi atau setelah tahun ini\n",
        "books = books[(books['Year_Of_Publication'] > 1900) & (books['Year_Of_Publication'] <= current_year)]\n",
        "print(f\"Rentang Year_Of_Publication setelah dibersihkan: {books['Year_Of_Publication'].min()} - {books['Year_Of_Publication'].max()}\")\n",
        "print(f\"Tipe data Year_Of_Publication setelah diubah: {books['Year_Of_Publication'].dtype}\")\n",
        "\n"
      ],
      "metadata": {
        "colab": {
          "base_uri": "https://localhost:8080/"
        },
        "id": "khQJfgP92Pas",
        "outputId": "a044fa2c-4359-4e40-b23a-54b516e0e65c"
      },
      "execution_count": 50,
      "outputs": [
        {
          "output_type": "stream",
          "name": "stdout",
          "text": [
            "Rentang Year_Of_Publication setelah dibersihkan: 1901 - 2024\n",
            "Tipe data Year_Of_Publication setelah diubah: int64\n"
          ]
        }
      ]
    },
    {
      "cell_type": "markdown",
      "source": [
        "###### **3.2.5. Menghapus baris tanpa judul buku**"
      ],
      "metadata": {
        "id": "jPBhQ6dZcktu"
      }
    },
    {
      "cell_type": "code",
      "source": [
        "# Book_Title dicek dan di hapus jika ada NaN\n",
        "books.dropna(subset=['Book_Title'], inplace=True)\n",
        "\n",
        "print(f\"Jumlah data Books setelah persiapan: {books.shape}\")"
      ],
      "metadata": {
        "id": "BRaWtBd7cevk",
        "colab": {
          "base_uri": "https://localhost:8080/"
        },
        "outputId": "a46f3e48-f063-4c63-c3b9-1ae315d65216"
      },
      "execution_count": 51,
      "outputs": [
        {
          "output_type": "stream",
          "name": "stdout",
          "text": [
            "Jumlah data Books setelah persiapan: (266716, 5)\n"
          ]
        },
        {
          "output_type": "stream",
          "name": "stderr",
          "text": [
            "<ipython-input-51-29cf554feba5>:2: SettingWithCopyWarning: \n",
            "A value is trying to be set on a copy of a slice from a DataFrame\n",
            "\n",
            "See the caveats in the documentation: https://pandas.pydata.org/pandas-docs/stable/user_guide/indexing.html#returning-a-view-versus-a-copy\n",
            "  books.dropna(subset=['Book_Title'], inplace=True)\n"
          ]
        }
      ]
    },
    {
      "cell_type": "code",
      "source": [
        "print(f\"Jumlah data Books setelah persiapan: {books.shape}\")"
      ],
      "metadata": {
        "colab": {
          "base_uri": "https://localhost:8080/"
        },
        "id": "ctEmcd7s3qzj",
        "outputId": "adc3c0ba-767a-4bc5-a2da-b509eadc90ca"
      },
      "execution_count": 52,
      "outputs": [
        {
          "output_type": "stream",
          "name": "stdout",
          "text": [
            "Jumlah data Books setelah persiapan: (266716, 5)\n"
          ]
        }
      ]
    },
    {
      "cell_type": "markdown",
      "source": [
        "Total data books setelah tahap persiapan adalah: 266.721"
      ],
      "metadata": {
        "id": "Rx2-LbuHcqVa"
      }
    },
    {
      "cell_type": "markdown",
      "source": [
        "#### **3.3. Mempersiapan Dataset Users**"
      ],
      "metadata": {
        "id": "oDg9Y312zZve"
      }
    },
    {
      "cell_type": "markdown",
      "source": [
        "###### **3.3.1. Menangani Missing Value**"
      ],
      "metadata": {
        "id": "GMpOIuWg0ra5"
      }
    },
    {
      "cell_type": "code",
      "source": [
        "print(\"\\n--- Mempersiapkan Dataset Pengguna ---\")\n",
        "print(f\"Missing values di Age sebelum ditangani: {users['Age'].isnull().sum()} ({users['Age'].isnull().mean()*100:.2f}%)\")\n",
        "# Mengisi NaN dengan median\n",
        "median_age = users['Age'].median()\n",
        "users['Age'].fillna(median_age, inplace=True)\n",
        "print(f\"Missing values di Age setelah imputasi median: {users['Age'].isnull().sum()}\")\n"
      ],
      "metadata": {
        "colab": {
          "base_uri": "https://localhost:8080/"
        },
        "id": "eSYa0GVsz6XS",
        "outputId": "f7193715-55dd-4186-acb4-78c1bb0d35ad"
      },
      "execution_count": 53,
      "outputs": [
        {
          "output_type": "stream",
          "name": "stdout",
          "text": [
            "\n",
            "--- Mempersiapkan Dataset Pengguna ---\n",
            "Missing values di Age sebelum ditangani: 110762 (39.72%)\n",
            "Missing values di Age setelah imputasi median: 0\n"
          ]
        },
        {
          "output_type": "stream",
          "name": "stderr",
          "text": [
            "<ipython-input-53-b164bdadfc96>:5: FutureWarning: A value is trying to be set on a copy of a DataFrame or Series through chained assignment using an inplace method.\n",
            "The behavior will change in pandas 3.0. This inplace method will never work because the intermediate object on which we are setting values always behaves as a copy.\n",
            "\n",
            "For example, when doing 'df[col].method(value, inplace=True)', try using 'df.method({col: value}, inplace=True)' or df[col] = df[col].method(value) instead, to perform the operation inplace on the original object.\n",
            "\n",
            "\n",
            "  users['Age'].fillna(median_age, inplace=True)\n"
          ]
        }
      ]
    },
    {
      "cell_type": "markdown",
      "source": [
        "Menangani missing value dengan median\n",
        "\n",
        "Menggunakan median lebih tahan terhadap outlier dibanding mean, dan menjaga distribusi data agar tetap realistis."
      ],
      "metadata": {
        "id": "hPoX_OVXdcZU"
      }
    },
    {
      "cell_type": "markdown",
      "source": [
        "###### **3.3.2. Menangani Outliers**"
      ],
      "metadata": {
        "id": "9GGNCOjd1YGN"
      }
    },
    {
      "cell_type": "code",
      "source": [
        "# Menangani usia yang tidak realistis (misal < 5 atau > 100), ganti dengan median\n",
        "users.loc[users['Age'] < 5, 'Age'] = median_age\n",
        "users.loc[users['Age'] > 100, 'Age'] = median_age\n",
        "print(f\"Rentang Age setelah penanganan outlier: {users['Age'].min()} - {users['Age'].max()}\")"
      ],
      "metadata": {
        "id": "YlT6aH_v1cvs",
        "colab": {
          "base_uri": "https://localhost:8080/"
        },
        "outputId": "b2029f5b-e0b1-4e6e-840c-a325d246410e"
      },
      "execution_count": 54,
      "outputs": [
        {
          "output_type": "stream",
          "name": "stdout",
          "text": [
            "Rentang Age setelah penanganan outlier: 5.0 - 100.0\n"
          ]
        }
      ]
    },
    {
      "cell_type": "markdown",
      "source": [
        "- Usia di bawah 5 dan di atas 100 jarang terjadi dan kemungkinan merupakan data error atau manipulasi pengguna.\n",
        "\n",
        "- Usia dibawah 5 tahun dan di atas 100 tahun di ganti dengan nilai median agar data tidak dibuang, tapi tetap valid secara statistik."
      ],
      "metadata": {
        "id": "HotbF_dbd_Zx"
      }
    },
    {
      "cell_type": "markdown",
      "source": [
        "###### **3.3.3. Konversi Tipe data Age**"
      ],
      "metadata": {
        "id": "RJu2y_bz07LQ"
      }
    },
    {
      "cell_type": "code",
      "source": [
        "# Konversi Age ke integer\n",
        "users['Age'] = users['Age'].astype(int)\n",
        "print(f\"Tipe data Age setelah diubah: {users['Age'].dtype}\")"
      ],
      "metadata": {
        "id": "urUyQWmM025F",
        "colab": {
          "base_uri": "https://localhost:8080/"
        },
        "outputId": "20421a2d-a1f7-44e8-badf-45b86cf9a82d"
      },
      "execution_count": 55,
      "outputs": [
        {
          "output_type": "stream",
          "name": "stdout",
          "text": [
            "Tipe data Age setelah diubah: int64\n"
          ]
        }
      ]
    },
    {
      "cell_type": "markdown",
      "source": [
        "###### **3.3.4. Mengubah tipe data Age ke integer**"
      ],
      "metadata": {
        "id": "UCo2aFsYebKs"
      }
    },
    {
      "cell_type": "code",
      "source": [
        "print(f\"Jumlah Data Users setelah persiapan: {users.shape}\")"
      ],
      "metadata": {
        "id": "T7cIMD-r4jhY",
        "colab": {
          "base_uri": "https://localhost:8080/"
        },
        "outputId": "f23606f0-3ce9-4498-b315-8f4bae606ead"
      },
      "execution_count": 56,
      "outputs": [
        {
          "output_type": "stream",
          "name": "stdout",
          "text": [
            "Jumlah Data Users setelah persiapan: (278858, 3)\n"
          ]
        }
      ]
    },
    {
      "cell_type": "markdown",
      "source": [
        "Humlah data User setelah melalui tahap persiapan adalah 278.858"
      ],
      "metadata": {
        "id": "kky2rUrueiCm"
      }
    },
    {
      "cell_type": "markdown",
      "source": [
        "#### **3.4. Mempersiapkan Dataset Ratings**"
      ],
      "metadata": {
        "id": "Wf-r44en1nfh"
      }
    },
    {
      "cell_type": "markdown",
      "source": [
        "###### **3.4.1. Mensinkronkan data Ratings dengan Books dan Users**"
      ],
      "metadata": {
        "id": "Ug1weT6xe5A8"
      }
    },
    {
      "cell_type": "code",
      "source": [
        "# --- Mempersiapkan Dataset Ratings ---\n",
        "print(\"\\n--- Mempersiapkan Dataset Rating ---\")\n",
        "# Memastikan ISBN di ratings ada di books_df yang sudah bersih\n",
        "ratings = ratings[ratings['ISBN'].isin(books['ISBN'])]\n",
        "# Memastikan User_ID di ratings ada di users yang sudah bersih\n",
        "ratings = ratings[ratings['User_ID'].isin(users['User_ID'])]\n",
        "print(f\"Jumlah data Ratings setelah sinkronisasi dengan books dan users: {ratings.shape}\")"
      ],
      "metadata": {
        "id": "Uka5NKR7100r",
        "colab": {
          "base_uri": "https://localhost:8080/"
        },
        "outputId": "c64b72db-9881-49ad-cd13-d62129e63eda"
      },
      "execution_count": 57,
      "outputs": [
        {
          "output_type": "stream",
          "name": "stdout",
          "text": [
            "\n",
            "--- Mempersiapkan Dataset Rating ---\n",
            "Jumlah data Ratings setelah sinkronisasi dengan books dan users: (1017058, 3)\n"
          ]
        }
      ]
    },
    {
      "cell_type": "markdown",
      "source": [
        "Total data setelah di sinkronkan adalah 1.017.058"
      ],
      "metadata": {
        "id": "da9fIue-e_4J"
      }
    },
    {
      "cell_type": "markdown",
      "source": [
        "#### **3.5. Filtering Data**"
      ],
      "metadata": {
        "id": "zQTyFlZ448QG"
      }
    },
    {
      "cell_type": "markdown",
      "source": [
        "###### **3.5.1. Mengambil rating eksplisit**"
      ],
      "metadata": {
        "id": "23mPrL3qiYQ3"
      }
    },
    {
      "cell_type": "code",
      "source": [
        "print(\"\\n--- Filter Rating untuk Collaborative Filtering ---\")\n",
        "\n",
        "# Mengambil hanya rating eksplisit (1–10)\n",
        "ratings_explicit = ratings[ratings['Book_Rating'] != 0]\n",
        "print(f\"Rating eksplisit: {len(ratings_explicit)}\")"
      ],
      "metadata": {
        "id": "BtMhPjs9GDkz",
        "colab": {
          "base_uri": "https://localhost:8080/"
        },
        "outputId": "26549129-ce8d-43d5-c314-a1c132f636aa"
      },
      "execution_count": 58,
      "outputs": [
        {
          "output_type": "stream",
          "name": "stdout",
          "text": [
            "\n",
            "--- Filter Rating untuk Collaborative Filtering ---\n",
            "Rating eksplisit: 378026\n"
          ]
        }
      ]
    },
    {
      "cell_type": "markdown",
      "source": [
        "Hanya rating eksplisit (bernilai 1–10) yang digunakan karena Collaborative Filtering (CF) membutuhkan interaksi yang jelas. Rating = 0 biasanya berarti implicit feedback.\n",
        "\n",
        "Jumlah data: len(ratings_explicit) menunjukkan total interaksi yang valid dan bisa digunakan oleh model CF."
      ],
      "metadata": {
        "id": "Ncr0SQczg8tm"
      }
    },
    {
      "cell_type": "markdown",
      "source": [
        "###### **3.5.2. Filter Pengguna Aktif**"
      ],
      "metadata": {
        "id": "rVP55MjJihqe"
      }
    },
    {
      "cell_type": "code",
      "source": [
        "# Filter pengguna aktif yang memberikan rating (≥5 rating)\n",
        "active_users = ratings_explicit['User_ID'].value_counts()\n",
        "active_users = active_users[active_users >= 5].index\n",
        "ratings_filtered = ratings_explicit[ratings_explicit['User_ID'].isin(active_users)]\n",
        "print(f\"Rating setelah filter pengguna: {len(ratings_filtered)}\")\n",
        "print(f\"Pengguna aktif: {len(active_users)}\")"
      ],
      "metadata": {
        "id": "Cu97DSK2gHCT",
        "colab": {
          "base_uri": "https://localhost:8080/"
        },
        "outputId": "81eae589-69ad-4e59-dc21-fd3d2fde13fe"
      },
      "execution_count": 59,
      "outputs": [
        {
          "output_type": "stream",
          "name": "stdout",
          "text": [
            "Rating setelah filter pengguna: 297648\n",
            "Pengguna aktif: 12616\n"
          ]
        }
      ]
    },
    {
      "cell_type": "markdown",
      "source": [
        "Pengguna yang hanya memberikan sedikit rating tidak memberikan informasi cukup bagi model CF untuk memahami preferensinya. Dengan menyaring hanya pengguna yang aktif (setidaknya 5 rating), kita:\n",
        "\n",
        "- Meningkatkan kualitas data.\n",
        "\n",
        "- Mengurangi noise dari pengguna pasif."
      ],
      "metadata": {
        "id": "k6jjDQyRhgrA"
      }
    },
    {
      "cell_type": "markdown",
      "source": [
        "###### **3.5.3. Filter Buku Populer**"
      ],
      "metadata": {
        "id": "FLH8S1Ffiz6E"
      }
    },
    {
      "cell_type": "code",
      "source": [
        "# Filter buku populer (≥10 rating)\n",
        "popular_books = ratings_filtered['ISBN'].value_counts()\n",
        "popular_books = popular_books[popular_books >= 10].index\n",
        "final_ratings = ratings_filtered[ratings_filtered['ISBN'].isin(popular_books)]\n",
        "print(f\"Rating setelah filter buku: {len(final_ratings)}\")\n",
        "print(f\"Buku populer: {final_ratings['ISBN'].nunique()}\")\n",
        "print(f\"Pengguna unik: {final_ratings['User_ID'].nunique()}\")"
      ],
      "metadata": {
        "id": "wIJc1LIpgNtT",
        "colab": {
          "base_uri": "https://localhost:8080/"
        },
        "outputId": "fd89212e-9691-41ca-f60f-056a98a25005"
      },
      "execution_count": 60,
      "outputs": [
        {
          "output_type": "stream",
          "name": "stdout",
          "text": [
            "Rating setelah filter buku: 92365\n",
            "Buku populer: 3942\n",
            "Pengguna unik: 11161\n"
          ]
        }
      ]
    },
    {
      "cell_type": "markdown",
      "source": [
        "Buku yang hanya mendapatkan sedikit rating sulit dipelajari oleh model karena datanya minim. Dengan menyaring buku yang mendapatkan minimal 10 rating:\n",
        "\n",
        "- Model bisa mempelajari pola preferensi terhadap buku tersebut dengan lebih akurat.\n",
        "\n",
        "- Menghindari overfitting terhadap item yang jarang dinilai."
      ],
      "metadata": {
        "id": "AgTeg4k7h2jb"
      }
    },
    {
      "cell_type": "markdown",
      "source": [
        "###### **3.5.4. Sinkronkan ulang dataset Users dan Books**"
      ],
      "metadata": {
        "id": "W9woke1Ji6Eb"
      }
    },
    {
      "cell_type": "code",
      "source": [
        "# Sinkronisasi buku & pengguna\n",
        "books_final = books[books['ISBN'].isin(final_ratings['ISBN'])]\n",
        "users_final = users[users['User_ID'].isin(final_ratings['User_ID'])]\n",
        "\n",
        "print(\"\\nBentuk akhir untuk Collaborative Filtering:\")\n",
        "print(f\"  Ratings: {final_ratings.shape}\")\n",
        "print(f\"  Books: {books_final.shape}\")\n",
        "print(f\"  Users: {users_final.shape}\")"
      ],
      "metadata": {
        "id": "ygnXGw4VgQbT",
        "colab": {
          "base_uri": "https://localhost:8080/"
        },
        "outputId": "7bc21204-cd12-4788-b716-1cd79028c826"
      },
      "execution_count": 61,
      "outputs": [
        {
          "output_type": "stream",
          "name": "stdout",
          "text": [
            "\n",
            "Bentuk akhir untuk Collaborative Filtering:\n",
            "  Ratings: (92365, 3)\n",
            "  Books: (3942, 5)\n",
            "  Users: (11161, 3)\n"
          ]
        }
      ]
    },
    {
      "cell_type": "markdown",
      "source": [
        "Hanya buku dan pengguna yang masih relevan dengan final_ratings yang disertakan dalam model. Ini penting agar:\n",
        "\n",
        "Tidak ada entitas “asing” di saat pelatihan model.\n",
        "\n",
        "Dataset menjadi lebih ringan dan relevan."
      ],
      "metadata": {
        "id": "AF8H7YlniIoR"
      }
    },
    {
      "cell_type": "markdown",
      "source": [
        "#### **3.6. Menggabungkan Data**"
      ],
      "metadata": {
        "id": "BdKJ_7aKkawS"
      }
    },
    {
      "cell_type": "markdown",
      "source": [
        "Menggabungkan data ratings dengan books dan users"
      ],
      "metadata": {
        "id": "ZEGNKFDqkqKo"
      }
    },
    {
      "cell_type": "code",
      "source": [
        "# Menggabungkan final_ratings dengan books dan users\n",
        "merged_df = final_ratings.merge(books_final, on='ISBN').merge(users_final, on='User_ID')\n",
        "print(f\"Bentuk data gabungan (ratings + books + users): {merged_df.shape}\")\n",
        "print(merged_df.head())"
      ],
      "metadata": {
        "id": "AA0qtwf3kgxl",
        "colab": {
          "base_uri": "https://localhost:8080/"
        },
        "outputId": "db9081a1-fb33-48d1-dbdf-75ed8e041885"
      },
      "execution_count": 62,
      "outputs": [
        {
          "output_type": "stream",
          "name": "stdout",
          "text": [
            "Bentuk data gabungan (ratings + books + users): (92365, 9)\n",
            "   User_ID        ISBN  Book_Rating                           Book_Title  \\\n",
            "0   276747  0060517794            9             Little Altars Everywhere   \n",
            "1   276747  0671537458            9                    Waiting to Exhale   \n",
            "2   276747  0679776818            8    Birdsong: A Novel of Love and War   \n",
            "3   276822  0060096195           10                    The Boy Next Door   \n",
            "4   276822  0786817070           10  Artemis Fowl (Artemis Fowl, Book 1)   \n",
            "\n",
            "        Book_Author  Year_Of_Publication          Publisher  \\\n",
            "0     Rebecca Wells                 2003        HarperTorch   \n",
            "1    Terry McMillan                 1995             Pocket   \n",
            "2  Sebastian Faulks                 1997  Vintage Books USA   \n",
            "3      Meggin Cabot                 2002         Avon Trade   \n",
            "4       Eoin Colfer                 2002       Miramax Kids   \n",
            "\n",
            "                   Location  Age  \n",
            "0      iowa city, iowa, usa   25  \n",
            "1      iowa city, iowa, usa   25  \n",
            "2      iowa city, iowa, usa   25  \n",
            "3  calgary, alberta, canada   11  \n",
            "4  calgary, alberta, canada   11  \n"
          ]
        }
      ]
    },
    {
      "cell_type": "markdown",
      "source": [
        "Data setelah digabungkan Memiliki:\n",
        "- Jumlah baris: 92,365\n",
        "  \n",
        "  Ini mewakili jumlah interaksi unik antara pengguna dan buku — artinya ada 92.365 rating eksplisit yang telah diberikan oleh pengguna aktif terhadap buku-buku populer.\n",
        "\n",
        "- Jumlah kolom: 9\n",
        "  \n",
        "  Setiap baris memiliki informasi dari tiga sumber data:\n",
        "\n",
        "  - ratings (User_ID, ISBN, Book_Rating)\n",
        "\n",
        "  - books (Book_Title, Book_Author, Year_Of_Publication, Publisher)\n",
        "\n",
        "  - users (Location, Age)"
      ],
      "metadata": {
        "id": "2L12Bt01lWDZ"
      }
    },
    {
      "cell_type": "markdown",
      "source": [
        "#### **3.7. Buat Dataset Content-Based**"
      ],
      "metadata": {
        "id": "YQ1_HhVSLkiK"
      }
    },
    {
      "cell_type": "code",
      "source": [
        "# Buat Dataset Content-Based dari merged_df\n",
        "\n",
        "books_cb = merged_df[['ISBN', 'Book_Title', 'Book_Author', 'Publisher']].drop_duplicates(subset='ISBN')\n",
        "books_cb = books_cb.fillna('')\n",
        "books_cb['content_features'] = (books_cb['Book_Title'] + ' ' + books_cb['Book_Author'] + ' ' + books_cb['Publisher']).str.lower()\n",
        "\n",
        "print(\"Jumlah buku unik (Content-Based):\", books_cb.shape[0])\n",
        "\n"
      ],
      "metadata": {
        "colab": {
          "base_uri": "https://localhost:8080/"
        },
        "id": "xCrBRSU3LkiK",
        "outputId": "7886e90f-31eb-4caa-d75b-233fb95de176"
      },
      "execution_count": 63,
      "outputs": [
        {
          "output_type": "stream",
          "name": "stdout",
          "text": [
            "Jumlah buku unik (Content-Based): 3942\n"
          ]
        }
      ]
    },
    {
      "cell_type": "markdown",
      "source": [
        "Penjelasan:\n",
        "- Dataset books_cb dibuat dari merged_df dengan hanya mempertahankan kolom yang relevan untuk analisis berbasis konten: Book_Title, Book_Author, dan Publisher.\n",
        "\n",
        "- Baris dengan ISBN duplikat dihapus karena setiap ISBN mewakili buku unik.\n",
        "\n",
        "- Semua teks dikonversi menjadi lowercase dan digabung untuk membentuk satu fitur gabungan: content_features.\n",
        "\n",
        "Dataset akhir memiliki fitur berbasis teks yang mewakili deskripsi konten tiap buku. Ini akan digunakan untuk menghitung kemiripan antar buku.\n",
        "\n"
      ],
      "metadata": {
        "id": "FMc5yfwsLkiK"
      }
    },
    {
      "cell_type": "markdown",
      "source": [
        "#### **3.8. Vektorisasi dengan TF-IDF**"
      ],
      "metadata": {
        "id": "CmI65diZTwou"
      }
    },
    {
      "cell_type": "code",
      "source": [
        "# TF-IDF Vectorization\n",
        "\n",
        "tfidf_vectorizer = TfidfVectorizer(stop_words='english', ngram_range=(1, 2))\n",
        "tfidf_matrix = tfidf_vectorizer.fit_transform(books_cb['content_features'])\n",
        "\n",
        "print(\"TF-IDF Matrix shape:\", tfidf_matrix.shape)"
      ],
      "metadata": {
        "id": "ZG1qrdWGRrxh",
        "colab": {
          "base_uri": "https://localhost:8080/"
        },
        "outputId": "f60884c5-0c4a-4b9d-b6e7-220715040f11"
      },
      "execution_count": 64,
      "outputs": [
        {
          "output_type": "stream",
          "name": "stdout",
          "text": [
            "TF-IDF Matrix shape: (3942, 17897)\n"
          ]
        }
      ]
    },
    {
      "cell_type": "markdown",
      "source": [
        "Penjelasan:\n",
        "- Menggunakan TF-IDF untuk mengubah data teks menjadi vektor numerik.\n",
        "\n",
        "- `stop_words='english'` menghapus kata umum (seperti the, and, dll).\n",
        "\n",
        "- `ngram_range=(1,2)` mempertimbangkan kata tunggal (unigram) dan pasangan kata (bigram) untuk konteks yang lebih baik.\n",
        "\n",
        "TF-IDF menangkap kata-kata penting dari judul, penulis, dan penerbit. Ini membantu sistem memahami karakteristik unik dari setiap buku berdasarkan teks deskriptif."
      ],
      "metadata": {
        "id": "KU9ixoO6eoAY"
      }
    },
    {
      "cell_type": "markdown",
      "source": [
        "#### **3.9. Splitting Data untuk Collaborative Filtering (Surprise)**"
      ],
      "metadata": {
        "id": "o53_MISZ_zLu"
      }
    },
    {
      "cell_type": "markdown",
      "source": [
        "Untuk Collaborative Filtering, kita akan menggunakan library scikit-surprise. Library ini memerlukan data dalam format spesifik. Kita membuat objek Reader untuk mendefinisikan skala rating dari (1 hingga 10, sesuai dataset ratings) dan kemudian memuat data User_ID, ISBN, dan Book_Rating ke dalam objek Dataset Surprise."
      ],
      "metadata": {
        "id": "EnZ04vMF_zLu"
      }
    },
    {
      "cell_type": "code",
      "source": [
        "reader = Reader(rating_scale=(1, 10))\n",
        "data = Dataset.load_from_df(final_ratings[['User_ID', 'ISBN', 'Book_Rating']], reader)\n",
        "trainset, testset = train_test_split(data, test_size=0.2, random_state=42)\n"
      ],
      "metadata": {
        "id": "9wQWjSs7_zLv"
      },
      "execution_count": 65,
      "outputs": []
    },
    {
      "cell_type": "markdown",
      "source": [
        "- Data rating telah disiapkan dalam format yang sesuai untuk pemodelan collaborative filtering menggunakan Surprise.\n",
        "\n",
        "- Rating eksplisit 1–10 memungkinkan kita membangun model prediksi dengan granularitas tinggi.\n",
        "\n",
        "- Splitting 80:20 memastikan proses validasi model dilakukan secara terkontrol dan dapat direproduksi."
      ],
      "metadata": {
        "id": "t5fWywSg_zLv"
      }
    },
    {
      "cell_type": "markdown",
      "source": [
        "# **4. Exploratory Data Analysis Lanjutan (EDA)**"
      ],
      "metadata": {
        "id": "ORyvokNmozO-"
      }
    },
    {
      "cell_type": "markdown",
      "source": [
        "Visualisasi Ini adalah tahapan lanjutan untuk memahami data setelah melalui data preparation"
      ],
      "metadata": {
        "id": "khyLeA1y_949"
      }
    },
    {
      "cell_type": "markdown",
      "source": [
        "#### **4.1. Distribusi Tahun Publikasi Buku**"
      ],
      "metadata": {
        "id": "ugpS0YtQ0u4c"
      }
    },
    {
      "cell_type": "code",
      "source": [
        "plt.figure(figsize=(8, 4))\n",
        "sns.histplot(books['Year_Of_Publication'], bins=50, color='skyblue')\n",
        "plt.title('Distribusi Tahun Publikasi Buku')\n",
        "plt.xlabel('Tahun Publikasi')\n",
        "plt.ylabel('Jumlah Buku')\n",
        "plt.xlim(1800, pd.to_datetime('today').year + 5)\n",
        "plt.show()\n"
      ],
      "metadata": {
        "id": "rpcMoGGj0d4i",
        "colab": {
          "base_uri": "https://localhost:8080/",
          "height": 419
        },
        "outputId": "cfc42062-7553-4f4b-c940-061d57e5d6e7"
      },
      "execution_count": 66,
      "outputs": [
        {
          "output_type": "display_data",
          "data": {
            "text/plain": [
              "<Figure size 800x400 with 1 Axes>"
            ],
            "image/png": "[encoded data removed]"
          },
          "metadata": {}
        }
      ]
    },
    {
      "cell_type": "markdown",
      "source": [
        "Mayoritas buku terbit setelah tahun 1950, menunjukkan dominasi koleksi buku modern dalam dataset. Outlier di bawah tahun 1900 sangat sedikit, kemungkinan merupakan kesalahan input."
      ],
      "metadata": {
        "id": "uP39ZUO20i1n"
      }
    },
    {
      "cell_type": "markdown",
      "source": [
        "#### **4.2. Distribusi Usia Pengguna**"
      ],
      "metadata": {
        "id": "r4qi3WzP1Ab_"
      }
    },
    {
      "cell_type": "code",
      "source": [
        "plt.figure(figsize=(8, 4))\n",
        "sns.histplot(users['Age'], bins=30, kde=True, color='salmon')\n",
        "plt.title('Distribusi Usia Pengguna')\n",
        "plt.xlabel('Usia')\n",
        "plt.ylabel('Jumlah Pengguna')\n",
        "plt.show()"
      ],
      "metadata": {
        "id": "aK4wW13F1E5y",
        "colab": {
          "base_uri": "https://localhost:8080/",
          "height": 419
        },
        "outputId": "86e6814e-5f83-4425-fbb6-d2872729cd77"
      },
      "execution_count": 67,
      "outputs": [
        {
          "output_type": "display_data",
          "data": {
            "text/plain": [
              "<Figure size 800x400 with 1 Axes>"
            ],
            "image/png": "[encoded data removed]"
          },
          "metadata": {}
        }
      ]
    },
    {
      "cell_type": "markdown",
      "source": [
        "Sebagian besar pengguna berusia antara 20–40 tahun, menandakan dominasi pengguna dewasa muda yang kemungkinan aktif dalam membaca dan memberikan rating."
      ],
      "metadata": {
        "id": "O2kwwvnW1IDJ"
      }
    },
    {
      "cell_type": "markdown",
      "source": [
        "#### **4.3 Distribusi Rating Eksplisit**"
      ],
      "metadata": {
        "id": "qul49EG11NPl"
      }
    },
    {
      "cell_type": "code",
      "source": [
        "plt.figure(figsize=(8, 4))\n",
        "sns.countplot(x='Book_Rating', data=ratings_explicit, palette='viridis')\n",
        "plt.title('Distribusi Rating Buku (1–10)')\n",
        "plt.xlabel('Rating')\n",
        "plt.ylabel('Jumlah')\n",
        "plt.show()"
      ],
      "metadata": {
        "id": "0Iuyif4v1S-A",
        "colab": {
          "base_uri": "https://localhost:8080/",
          "height": 506
        },
        "outputId": "8ebd742a-219f-473d-8800-d69f580c8019"
      },
      "execution_count": 68,
      "outputs": [
        {
          "output_type": "stream",
          "name": "stderr",
          "text": [
            "<ipython-input-68-a102b5adbd26>:2: FutureWarning: \n",
            "\n",
            "Passing `palette` without assigning `hue` is deprecated and will be removed in v0.14.0. Assign the `x` variable to `hue` and set `legend=False` for the same effect.\n",
            "\n",
            "  sns.countplot(x='Book_Rating', data=ratings_explicit, palette='viridis')\n"
          ]
        },
        {
          "output_type": "display_data",
          "data": {
            "text/plain": [
              "<Figure size 800x400 with 1 Axes>"
            ],
            "image/png": "[encoded data removed]"
          },
          "metadata": {}
        }
      ]
    },
    {
      "cell_type": "markdown",
      "source": [
        "Rating 8, 9, dan 10 mendominasi, menunjukkan bias pengguna terhadap memberikan rating tinggi. Rating rendah (1–3) sangat jarang."
      ],
      "metadata": {
        "id": "i4jhBJ3w1f1E"
      }
    },
    {
      "cell_type": "markdown",
      "source": [
        "#### **4.4. Jumlah Rating Selama Proses Filtering**"
      ],
      "metadata": {
        "id": "4gxa-lfq1h6B"
      }
    },
    {
      "cell_type": "code",
      "source": [
        "plt.figure(figsize=(8, 4))\n",
        "counts = [1017064, len(ratings_explicit), len(ratings_filtered), len(final_ratings)]\n",
        "labels = ['Sync', 'Eksplisit', 'Pengguna Aktif', 'Buku Populer']\n",
        "sns.barplot(x=labels, y=counts, palette='coolwarm')\n",
        "plt.title('Jumlah Rating di Tiap Tahap Filtering')\n",
        "plt.ylabel('Jumlah')\n",
        "plt.show()"
      ],
      "metadata": {
        "id": "0Q-zJhhW1nGI",
        "colab": {
          "base_uri": "https://localhost:8080/",
          "height": 482
        },
        "outputId": "da355ac8-93c4-4529-bc93-de9d4fbcc263"
      },
      "execution_count": 69,
      "outputs": [
        {
          "output_type": "stream",
          "name": "stderr",
          "text": [
            "<ipython-input-69-c3dd9734c7eb>:4: FutureWarning: \n",
            "\n",
            "Passing `palette` without assigning `hue` is deprecated and will be removed in v0.14.0. Assign the `x` variable to `hue` and set `legend=False` for the same effect.\n",
            "\n",
            "  sns.barplot(x=labels, y=counts, palette='coolwarm')\n"
          ]
        },
        {
          "output_type": "display_data",
          "data": {
            "text/plain": [
              "<Figure size 800x400 with 1 Axes>"
            ],
            "image/png": "[encoded data removed]"
          },
          "metadata": {}
        }
      ]
    },
    {
      "cell_type": "markdown",
      "source": [
        "Terjadi penurunan drastis dari total rating ke rating buku populer yang digunakan, menandakan pentingnya filtering untuk menjaga kualitas data input."
      ],
      "metadata": {
        "id": "B-sy26Ng1rqp"
      }
    },
    {
      "cell_type": "markdown",
      "source": [
        "#### **4.5. Distribusi Rating per Pengguna**"
      ],
      "metadata": {
        "id": "iVPglc7U1xMi"
      }
    },
    {
      "cell_type": "code",
      "source": [
        "plt.figure(figsize=(8, 4))\n",
        "sns.histplot(final_ratings['User_ID'].value_counts(), bins=50, color='lightgreen')\n",
        "plt.title('Jumlah Rating per Pengguna (Final)')\n",
        "plt.xlabel('Jumlah Rating')\n",
        "plt.ylabel('Jumlah Pengguna')\n",
        "plt.show()"
      ],
      "metadata": {
        "id": "fVxF1OMy12ji",
        "colab": {
          "base_uri": "https://localhost:8080/",
          "height": 419
        },
        "outputId": "bfee2621-335c-4eb8-d019-97bd87a255bc"
      },
      "execution_count": 70,
      "outputs": [
        {
          "output_type": "display_data",
          "data": {
            "text/plain": [
              "<Figure size 800x400 with 1 Axes>"
            ],
            "image/png": "[encoded data removed]"
          },
          "metadata": {}
        }
      ]
    },
    {
      "cell_type": "markdown",
      "source": [
        "Sebagian besar pengguna aktif memberikan sekitar 5–20 rating. Hanya sedikit pengguna yang memberikan rating dalam jumlah besar (50+)."
      ],
      "metadata": {
        "id": "fOlL6wr_2CWt"
      }
    },
    {
      "cell_type": "markdown",
      "source": [
        "#### **4.6. Distribusi Rating per Buku**"
      ],
      "metadata": {
        "id": "OIi2yAtr20vu"
      }
    },
    {
      "cell_type": "code",
      "source": [
        "plt.figure(figsize=(8, 4))\n",
        "sns.histplot(final_ratings['ISBN'].value_counts(), bins=50, color='gold')\n",
        "plt.title('Jumlah Rating per Buku (Final)')\n",
        "plt.xlabel('Jumlah Rating')\n",
        "plt.ylabel('Jumlah Buku')\n",
        "plt.show()"
      ],
      "metadata": {
        "id": "nuw87gwU29R5",
        "colab": {
          "base_uri": "https://localhost:8080/",
          "height": 419
        },
        "outputId": "a1af0a66-ea3c-4600-f37b-0e5391bc0bfd"
      },
      "execution_count": 71,
      "outputs": [
        {
          "output_type": "display_data",
          "data": {
            "text/plain": [
              "<Figure size 800x400 with 1 Axes>"
            ],
            "image/png": "[encoded data removed]"
          },
          "metadata": {}
        }
      ]
    },
    {
      "cell_type": "markdown",
      "source": [
        "Buku dengan jumlah rating yang sangat tinggi relatif sedikit. Mayoritas buku populer memiliki 10–30 rating."
      ],
      "metadata": {
        "id": "8ipUb0cT3Eq6"
      }
    },
    {
      "cell_type": "markdown",
      "source": [
        "#### **4.7. Distribusi Rating pada Data Gabungan**"
      ],
      "metadata": {
        "id": "R1sRXldA3Fx3"
      }
    },
    {
      "cell_type": "code",
      "source": [
        "plt.figure(figsize=(8, 4))\n",
        "sns.countplot(x='Book_Rating', data=merged_df, palette='crest')\n",
        "plt.title('Distribusi Rating Buku (Merged Data)')\n",
        "plt.xlabel('Rating')\n",
        "plt.ylabel('Jumlah')\n",
        "plt.show()\n"
      ],
      "metadata": {
        "id": "38hapSUm3MuK",
        "colab": {
          "base_uri": "https://localhost:8080/",
          "height": 506
        },
        "outputId": "abc814c5-c9d0-49ae-b074-07777f774f08"
      },
      "execution_count": 72,
      "outputs": [
        {
          "output_type": "stream",
          "name": "stderr",
          "text": [
            "<ipython-input-72-622af8c59af0>:2: FutureWarning: \n",
            "\n",
            "Passing `palette` without assigning `hue` is deprecated and will be removed in v0.14.0. Assign the `x` variable to `hue` and set `legend=False` for the same effect.\n",
            "\n",
            "  sns.countplot(x='Book_Rating', data=merged_df, palette='crest')\n"
          ]
        },
        {
          "output_type": "display_data",
          "data": {
            "text/plain": [
              "<Figure size 800x400 with 1 Axes>"
            ],
            "image/png": "[encoded data removed]"
          },
          "metadata": {}
        }
      ]
    },
    {
      "cell_type": "markdown",
      "source": [
        "Distribusi tetap menunjukkan dominasi rating tinggi, mengindikasikan konsistensi preferensi pengguna meskipun data digabung."
      ],
      "metadata": {
        "id": "O81Dkcgh9mu0"
      }
    },
    {
      "cell_type": "markdown",
      "source": [
        "#### **4.8. Top 10 Penulis (Collaborative Filtering)**"
      ],
      "metadata": {
        "id": "BtxN2Pvz9ppE"
      }
    },
    {
      "cell_type": "code",
      "source": [
        "plt.figure(figsize=(8, 4))\n",
        "top_authors_cf = books_final['Book_Author'].value_counts().nlargest(10)\n",
        "sns.barplot(y=top_authors_cf.index, x=top_authors_cf.values, palette='mako')\n",
        "plt.title('Top 10 Penulis (Collaborative Filtering)')\n",
        "plt.xlabel('Jumlah Buku')\n",
        "plt.ylabel('Penulis')\n",
        "plt.show()\n"
      ],
      "metadata": {
        "id": "h8iWqcbn9xQ1",
        "colab": {
          "base_uri": "https://localhost:8080/",
          "height": 506
        },
        "outputId": "9a371b58-8b4e-42aa-f83f-cef3e6d11c28"
      },
      "execution_count": 73,
      "outputs": [
        {
          "output_type": "stream",
          "name": "stderr",
          "text": [
            "<ipython-input-73-2a05106787bb>:3: FutureWarning: \n",
            "\n",
            "Passing `palette` without assigning `hue` is deprecated and will be removed in v0.14.0. Assign the `y` variable to `hue` and set `legend=False` for the same effect.\n",
            "\n",
            "  sns.barplot(y=top_authors_cf.index, x=top_authors_cf.values, palette='mako')\n"
          ]
        },
        {
          "output_type": "display_data",
          "data": {
            "text/plain": [
              "<Figure size 800x400 with 1 Axes>"
            ],
            "image/png": "[encoded data removed]"
          },
          "metadata": {}
        }
      ]
    },
    {
      "cell_type": "markdown",
      "source": [
        "Penulis populer ini kemungkinan besar merupakan kandidat kuat untuk sistem rekomendasi berbasis kolaboratif karena banyaknya interaksi dengan pengguna."
      ],
      "metadata": {
        "id": "V62bj8_r90_c"
      }
    },
    {
      "cell_type": "markdown",
      "source": [
        "#### **4.9. Top 10 Penulis (Content-Based)**"
      ],
      "metadata": {
        "id": "MyLAHRJx93wq"
      }
    },
    {
      "cell_type": "code",
      "source": [
        "plt.figure(figsize=(8, 4))\n",
        "top_authors_cb = books_cb['Book_Author'].value_counts().nlargest(10)\n",
        "sns.barplot(y=top_authors_cb.index, x=top_authors_cb.values, palette='flare')\n",
        "plt.title('Top 10 Penulis (Content-Based)')\n",
        "plt.xlabel('Jumlah Buku')\n",
        "plt.ylabel('Penulis')\n",
        "plt.show()\n"
      ],
      "metadata": {
        "id": "3O1A5ta9924u",
        "colab": {
          "base_uri": "https://localhost:8080/",
          "height": 506
        },
        "outputId": "2e0be806-cac1-4f9d-9711-e200ba9f39b7"
      },
      "execution_count": 74,
      "outputs": [
        {
          "output_type": "stream",
          "name": "stderr",
          "text": [
            "<ipython-input-74-7ac012308a67>:3: FutureWarning: \n",
            "\n",
            "Passing `palette` without assigning `hue` is deprecated and will be removed in v0.14.0. Assign the `y` variable to `hue` and set `legend=False` for the same effect.\n",
            "\n",
            "  sns.barplot(y=top_authors_cb.index, x=top_authors_cb.values, palette='flare')\n"
          ]
        },
        {
          "output_type": "display_data",
          "data": {
            "text/plain": [
              "<Figure size 800x400 with 1 Axes>"
            ],
            "image/png": "[encoded data removed]"
          },
          "metadata": {}
        }
      ]
    },
    {
      "cell_type": "markdown",
      "source": [
        "Penulis ini memiliki volume buku tinggi dalam data, menjadikan mereka cocok untuk sistem berbasis konten (genre, gaya tulisan, dsb)."
      ],
      "metadata": {
        "id": "_kP6MG8b-FU-"
      }
    },
    {
      "cell_type": "markdown",
      "source": [
        "# **5. Modeling**"
      ],
      "metadata": {
        "id": "FUV_X9Q5OVgd"
      }
    },
    {
      "cell_type": "markdown",
      "source": [
        "## **5.1. Modeling: Content Based Filtering**"
      ],
      "metadata": {
        "id": "f-KMSGWvOYfd"
      }
    },
    {
      "cell_type": "markdown",
      "source": [
        "#### **5.1.1. Cosine Similarity**"
      ],
      "metadata": {
        "id": "D386Qs6aT3cV"
      }
    },
    {
      "cell_type": "code",
      "source": [
        "# Hitung Cosine Similarity\n",
        "\n",
        "if tfidf_matrix.shape[0] == 0:\n",
        "    print(\"TF-IDF Matrix kosong, tidak dapat menghitung cosine similarity.\")\n",
        "    similarity_matrix = None\n",
        "else:\n",
        "    similarity_matrix = cosine_similarity(tfidf_matrix, tfidf_matrix)\n",
        "    print(\"Cosine Similarity Matrix shape:\", similarity_matrix.shape)\n",
        "\n"
      ],
      "metadata": {
        "id": "AshezCGZSNvq",
        "colab": {
          "base_uri": "https://localhost:8080/"
        },
        "outputId": "c650d7e7-7555-441a-8d24-592df6115f3c"
      },
      "execution_count": 75,
      "outputs": [
        {
          "output_type": "stream",
          "name": "stdout",
          "text": [
            "Cosine Similarity Matrix shape: (3942, 3942)\n"
          ]
        }
      ]
    },
    {
      "cell_type": "markdown",
      "source": [
        "Penjelasan:\n",
        "- Cosine Similarity digunakan untuk mengukur tingkat kemiripan antara setiap buku berdasarkan vektor TF-IDF.\n",
        "\n",
        "- Matriks `similarity_matrix[i][j]` menunjukkan seberapa mirip buku ke-i dengan buku ke-j.\n",
        "\n",
        "Semakin tinggi nilai cosine similarity (maksimal 1), semakin mirip konten antara dua buku. Matriks ini adalah dasar sistem rekomendasi.\n",
        "\n"
      ],
      "metadata": {
        "id": "-eZ3BHT4e03o"
      }
    },
    {
      "cell_type": "markdown",
      "source": [
        "#### **5.1.2. Mapping Judul ke Index**"
      ],
      "metadata": {
        "id": "VJQsLZSJT9jX"
      }
    },
    {
      "cell_type": "code",
      "source": [
        "# Buat Mapping Judul → Index\n",
        "\n",
        "title_idx_map = pd.Series(range(len(books_cb)), index=books_cb['Book_Title']).drop_duplicates()"
      ],
      "metadata": {
        "id": "-26Qn3GGWBh3"
      },
      "execution_count": 76,
      "outputs": []
    },
    {
      "cell_type": "markdown",
      "source": [
        "Penjelasan:\n",
        "- Membuat mapping dari Book_Title ke index dalam dataframe `books_cb`.\n",
        "\n",
        "- Memudahkan pencarian posisi vektor buku tertentu untuk di-referensikan dalam `similarity_matrix`.\n",
        "\n",
        "Dengan mapping ini, kita dapat langsung mencari skor kemiripan untuk buku manapun tanpa perlu mencarinya satu per satu secara manual."
      ],
      "metadata": {
        "id": "-X_qR5ABfDPw"
      }
    },
    {
      "cell_type": "markdown",
      "source": [
        "#### **5.1.3. Rekomendasi Berdasarkan Kemiripan Konten**"
      ],
      "metadata": {
        "id": "7Cfe2a6WWTWD"
      }
    },
    {
      "cell_type": "code",
      "source": [
        "# Ambil contoh judul (ganti sesuai keinginan)\n",
        "sample_index = 10\n",
        "top_n = 5\n",
        "sample_title = books_cb['Book_Title'].iloc[sample_index]\n",
        "\n",
        "# Pastikan judul tersedia\n",
        "if sample_title not in title_idx_map:\n",
        "    possible_matches = [t for t in title_idx_map.index if sample_title.lower() in t.lower()]\n",
        "    if not possible_matches:\n",
        "        print(f\"Buku '{sample_title}' tidak ditemukan.\")\n",
        "    else:\n",
        "        print(f\"Judul tidak ditemukan. Mungkin maksud Anda: {possible_matches[:3]}\")\n",
        "        sample_title = possible_matches[0]\n",
        "\n",
        "# Ambil index dan skor kemiripan\n",
        "idx = title_idx_map[sample_title]\n",
        "sim_scores = list(enumerate(similarity_matrix[idx]))\n",
        "sim_scores = sorted(sim_scores, key=lambda x: x[1], reverse=True)[1:top_n+1]\n",
        "book_indices = [i[0] for i in sim_scores]\n"
      ],
      "metadata": {
        "id": "c4P4R7GqWSRs"
      },
      "execution_count": 77,
      "outputs": []
    },
    {
      "cell_type": "markdown",
      "source": [
        "Penjelasan:\n",
        "- Sistem mengambil satu judul sebagai input, mencari skor kemiripan terhadap semua buku lainnya, dan mengurutkan skor tersebut.\n",
        "\n",
        "- Menghindari self-match (hasil pertama di-skip karena itu adalah buku itu sendiri).\n",
        "\n",
        "- Top N buku yang paling mirip ditampilkan sebagai rekomendasi.\n",
        "\n",
        "Rekomendasi yang dihasilkan berdasarkan kemiripan konten cocok untuk pengguna baru yang belum banyak memberikan rating (cold-start). Sistem ini juga bisa membantu pengguna menemukan buku dengan tema, penulis, atau penerbit yang serupa."
      ],
      "metadata": {
        "id": "XusnL6PNfXpo"
      }
    },
    {
      "cell_type": "code",
      "source": [
        "# Tampilkan hasil rekomendasi\n",
        "recommendations = books_cb.iloc[book_indices][['Book_Title', 'Book_Author', 'ISBN']].copy()\n",
        "recommendations['similarity_score'] = [s[1] for s in sim_scores]\n",
        "\n",
        "print(f\"\\n Rekomendasi untuk buku: '{sample_title}' (Top {top_n})\")\n",
        "print(recommendations)"
      ],
      "metadata": {
        "id": "3PMhl-xqZ3ED",
        "colab": {
          "base_uri": "https://localhost:8080/"
        },
        "outputId": "124e2a49-f4c9-4d1d-dc69-cfdde8018f40"
      },
      "execution_count": 78,
      "outputs": [
        {
          "output_type": "stream",
          "name": "stdout",
          "text": [
            "\n",
            " Rekomendasi untuk buku: 'Politically Correct Bedtime Stories: Modern Tales for Our Life and Times' (Top 5)\n",
            "                                             Book_Title        Book_Author  \\\n",
            "8787  Politically Correct Holiday Stories: For an En...  James Finn Garner   \n",
            "153   Once upon a More Enlightened Time: More Politi...  James Finn Garner   \n",
            "1264  Wicked : The Life and Times of the Wicked Witc...    Gregory Maguire   \n",
            "467   Wicked: The Life and Times of the Wicked Witch...    Gregory Maguire   \n",
            "6580            The Canterbury Tales, in Modern English   Geoffrey Chaucer   \n",
            "\n",
            "            ISBN  similarity_score  \n",
            "8787  0028604202          0.559432  \n",
            "153   0028604199          0.480889  \n",
            "1264  0060391448          0.114175  \n",
            "467   0060987103          0.111192  \n",
            "6580  0140440224          0.075267  \n"
          ]
        }
      ]
    },
    {
      "cell_type": "markdown",
      "source": [
        "## **5.2. Modeling: Collaborative Filtering (SVD dengan Surprise)**"
      ],
      "metadata": {
        "id": "jPTe7Fmdndd5"
      }
    },
    {
      "cell_type": "markdown",
      "source": [
        "Collaborative Filtering memanfaatkan kemiripan antar pengguna berdasarkan perilaku rating untuk merekomendasikan item. Pendekatan ini sangat cocok untuk mempersonalisasi rekomendasi berdasarkan interaksi pengguna lain yang memiliki preferensi serupa"
      ],
      "metadata": {
        "id": "h2PlCa3BnUOw"
      }
    },
    {
      "cell_type": "markdown",
      "source": [
        "#### **5.2.1. Melatih Model SVD**"
      ],
      "metadata": {
        "id": "FPAFNmLupiYg"
      }
    },
    {
      "cell_type": "code",
      "source": [
        "algo_svd = SVD(n_factors=50, n_epochs=30, biased=True, lr_all=0.005, reg_all=0.01)\n",
        "print(\"Training SVD model...\")\n",
        "algo_svd.fit(trainset)\n"
      ],
      "metadata": {
        "id": "s9IfiPW5pneH",
        "colab": {
          "base_uri": "https://localhost:8080/"
        },
        "outputId": "a5aa4df6-1c06-42c9-98c3-496ec32edcb1"
      },
      "execution_count": 79,
      "outputs": [
        {
          "output_type": "stream",
          "name": "stdout",
          "text": [
            "Training SVD model...\n"
          ]
        },
        {
          "output_type": "execute_result",
          "data": {
            "text/plain": [
              "<surprise.prediction_algorithms.matrix_factorization.SVD at 0x7fdc14646c50>"
            ]
          },
          "metadata": {},
          "execution_count": 79
        }
      ]
    },
    {
      "cell_type": "markdown",
      "source": [
        "Penjelasan:\n",
        "\n",
        "- Menggunakan algoritma SVD yang memfaktorisasi matriks user-item menjadi faktor laten.\n",
        "\n",
        "- Parameter seperti n_factors, lr_all, dan reg_all bisa dioptimasi lebih lanjut dengan Grid Search.\n",
        "\n",
        "- SVD efektif untuk mengatasi sparsity (ketiadaan rating) dan cocok untuk dataset skala menengah hingga besar."
      ],
      "metadata": {
        "id": "6hGSg-omprH6"
      }
    },
    {
      "cell_type": "markdown",
      "source": [
        "#### **5.2.2. Membuat Prediksi pada Test Set**"
      ],
      "metadata": {
        "id": "hxSKZF2bqJDi"
      }
    },
    {
      "cell_type": "markdown",
      "source": [
        "Setelah model dilatih, kita menggunakannya untuk membuat prediksi rating pada testset (20% data yang disisihkan). Hasil prediksi ini (predictions). Data predictions ini akan digunakan pada tahap Evaluasi untuk menghitung metrik RMSE dan MAE, yang mengukur seberapa akurat prediksi model kita"
      ],
      "metadata": {
        "id": "Fhh8OtZV8g-Y"
      }
    },
    {
      "cell_type": "code",
      "source": [
        "print(\"Making predictions on test set...\")\n",
        "predictions = algo_svd.test(testset)\n",
        "\n",
        "print(\"--- Collaborative Filtering Modeling Complete ---\")"
      ],
      "metadata": {
        "id": "KPm7mCJfp5kH",
        "colab": {
          "base_uri": "https://localhost:8080/"
        },
        "outputId": "3208f507-cbd3-4cca-8e41-05c3596d6c63"
      },
      "execution_count": 80,
      "outputs": [
        {
          "output_type": "stream",
          "name": "stdout",
          "text": [
            "Making predictions on test set...\n",
            "--- Collaborative Filtering Modeling Complete ---\n"
          ]
        }
      ]
    },
    {
      "cell_type": "markdown",
      "source": [
        "# **6. Fungsi Rekomendasi**"
      ],
      "metadata": {
        "id": "b1ZtzwQY9_CM"
      }
    },
    {
      "cell_type": "markdown",
      "source": [
        "Setelah model-model kita dilatih, langkah selanjutnya adalah membuat fungsi-fungsi praktis yang dapat digunakan untuk menghasilkan dan menampilkan rekomendasi film kepada pengguna. Kita akan membuat fungsi terpisah untuk Content-Based Filtering dan Collaborative Filtering."
      ],
      "metadata": {
        "id": "l1BMkbCvBPsG"
      }
    },
    {
      "cell_type": "markdown",
      "source": [
        "## **6.1. Fungsi Content-Based-Filtering**"
      ],
      "metadata": {
        "id": "C8WvKGao_c1G"
      }
    },
    {
      "cell_type": "markdown",
      "source": [
        "Fungsi get_content_based_recommendations digunakan untuk merekomendasikan buku berdasarkan kemiripan kontennya (judul, penulis, penerbit). Fungsi ini mengambil judul buku sebagai input, mencari skor kemiripan dari matriks cosine similarity, lalu mengembalikan daftar buku yang paling mirip (top-N), lengkap dengan skor kemiripan.\n",
        "\n",
        "Jika judul tidak ditemukan, fungsi akan menangani error dengan memberikan pesan yang sesuai.\n"
      ],
      "metadata": {
        "id": "TH44ks-WAiW-"
      }
    },
    {
      "cell_type": "code",
      "source": [
        "def get_content_based_recommendations(title, books_cb, similarity_matrix, title_idx_map, N=10):\n",
        "    \"\"\"\n",
        "    Fungsi inti untuk mendapatkan rekomendasi Content-Based Filtering (mengembalikan DataFrame).\n",
        "    \"\"\"\n",
        "    try:\n",
        "        # Ambil index buku berdasarkan judul\n",
        "        book_id_or_series = title_idx_map[title]\n",
        "\n",
        "        if isinstance(book_id_or_series, pd.Series):\n",
        "            book_id = book_id_or_series.iloc[0]\n",
        "        else:\n",
        "            book_id = book_id_or_series\n",
        "\n",
        "        idx = books_cb.index.get_loc(book_id)\n",
        "\n",
        "        sim_scores = list(enumerate(similarity_matrix[idx]))\n",
        "        sim_scores = sorted(sim_scores, key=lambda x: x[1], reverse=True)\n",
        "        sim_scores = sim_scores[1:N+1]  # skip self-match\n",
        "        book_indices = [i[0] for i in sim_scores]\n",
        "\n",
        "        recommended_book_ids = books_cb.iloc[book_indices].index\n",
        "        recommendations = books_cb.loc[recommended_book_ids].copy()\n",
        "        recommendations['Similarity Score'] = [score[1] for score in sim_scores]\n",
        "        return recommendations[['Book_Title', 'Book_Author', 'Publisher', 'Similarity Score']]\n",
        "\n",
        "    except KeyError:\n",
        "        return f\"Buku dengan judul '{title}' tidak ditemukan.\""
      ],
      "metadata": {
        "id": "1j1QC9-D_htM"
      },
      "execution_count": 81,
      "outputs": []
    },
    {
      "cell_type": "markdown",
      "source": [
        "Fungsi display_readable_cb_recommendations dirancang untuk menyajikan hasil rekomendasi buku berbasis konten dalam format yang rapi dan mudah dipahami oleh pengguna. Fungsi ini bekerja dengan mengambil judul buku sebagai input, lalu memanggil fungsi rekomendasi utama untuk mendapatkan daftar buku yang paling mirip berdasarkan kontennya. Setelah itu, hasil rekomendasi diformat ulang: indeks direset agar mulai dari 1, skor kemiripan ditampilkan hingga tiga desimal, dan hasil akhir dicetak dalam bentuk tabel lengkap dengan peringkat. Jika judul buku tidak ditemukan, fungsi ini juga menangani error dengan menampilkan pesan yang sesuai. Tujuan utama dari fungsi ini adalah menyampaikan hasil rekomendasi dengan cara yang jelas dan informatif bagi pengguna."
      ],
      "metadata": {
        "id": "WDI8Be3bBaJR"
      }
    },
    {
      "cell_type": "code",
      "source": [
        "def display_readable_cb_recommendations(title, books_cb, similarity_matrix, title_idx_map, N=5):\n",
        "    \"\"\"\n",
        "    Menampilkan hasil rekomendasi Content-Based dalam format tabel yang mudah dibaca.\n",
        "    \"\"\"\n",
        "    print(\"-\" * 70)\n",
        "    print(f\"Rekomendasi Content-Based untuk '{title}':\")\n",
        "    print(\"-\" * 70)\n",
        "\n",
        "    recommendations_df = get_content_based_recommendations(title, books_cb, similarity_matrix, title_idx_map, N=N)\n",
        "\n",
        "    if isinstance(recommendations_df, str):\n",
        "        print(recommendations_df)\n",
        "    else:\n",
        "        readable_df = recommendations_df.reset_index(drop=True)\n",
        "        readable_df.index = readable_df.index + 1\n",
        "        readable_df = readable_df.rename_axis('Rank').reset_index()\n",
        "        readable_df['Similarity Score'] = readable_df['Similarity Score'].map('{:,.3f}'.format)\n",
        "        print(readable_df.to_string(index=False))\n",
        "\n",
        "    print(\"-\" * 70)\n",
        "    print(\"\\n\")\n"
      ],
      "metadata": {
        "id": "py4P_TL5_pFr"
      },
      "execution_count": 82,
      "outputs": []
    },
    {
      "cell_type": "markdown",
      "source": [
        "## **6.2. Fungsi: Collaborative Filtering (SVD)**"
      ],
      "metadata": {
        "id": "qNzL7ciP-vjP"
      }
    },
    {
      "cell_type": "markdown",
      "source": [
        "Fungsi get_top_n_collaborative_recommendations bertujuan untuk menghasilkan daftar rekomendasi buku terbaik bagi setiap pengguna berdasarkan pendekatan Collaborative Filtering. Fungsi ini menerima input berupa daftar prediksi dari model (yang telah memprediksi rating yang mungkin diberikan pengguna terhadap buku-buku tertentu), kemudian mengelompokkan prediksi tersebut berdasarkan ID pengguna (uid).\n",
        "\n",
        "Untuk setiap pengguna, fungsi akan menyusun daftar buku beserta rating prediksi (est), mengurutkannya dari yang tertinggi ke terendah, dan mengambil Top-N buku dengan prediksi rating terbaik. Hasil akhirnya adalah sebuah dictionary (kamus), di mana kunci (key)-nya adalah ID pengguna, dan nilainya adalah daftar rekomendasi buku beserta prediksi rating-nya. Fungsi ini menjadi dasar sistem rekomendasi personal yang memanfaatkan preferensi pengguna lain yang serupa."
      ],
      "metadata": {
        "id": "FXXg41ZiCEqm"
      }
    },
    {
      "cell_type": "code",
      "source": [
        "def get_top_n_collaborative_recommendations(predictions, n=10):\n",
        "    \"\"\"\n",
        "    Fungsi untuk mendapatkan top-N rekomendasi dari Collaborative Filtering.\n",
        "    \"\"\"\n",
        "    top_n = defaultdict(list)\n",
        "    for uid, iid, true_r, est, _ in predictions:\n",
        "        top_n[uid].append((iid, est))\n",
        "\n",
        "    for uid, user_ratings in top_n.items():\n",
        "        user_ratings.sort(key=lambda x: x[1], reverse=True)\n",
        "        top_n[uid] = user_ratings[:n]\n",
        "\n",
        "    return top_n\n"
      ],
      "metadata": {
        "id": "JHJP-628-30t"
      },
      "execution_count": 83,
      "outputs": []
    },
    {
      "cell_type": "markdown",
      "source": [
        "Fungsi display_collaborative_recommendations digunakan untuk menampilkan rekomendasi buku berdasarkan pendekatan Collaborative Filtering yang telah dihitung sebelumnya. Fungsi ini menerima input berupa user_id, dictionary hasil prediksi (top_n_dict), dan DataFrame buku (books_df).\n",
        "\n",
        "Fungsi ini akan mengecek apakah ID pengguna tersedia dalam hasil rekomendasi. Jika ada, maka fungsi akan menampilkan daftar Top-N buku yang direkomendasikan lengkap dengan ISBN, skor prediksi rating, dan judul bukunya. Setiap rekomendasi diberi peringkat agar mudah dibaca. Jika user ID tidak ditemukan, maka akan ditampilkan pesan bahwa pengguna tidak tersedia.\n",
        "\n",
        "Dengan tampilan yang terstruktur dan rapi, fungsi ini sangat berguna untuk menyajikan hasil rekomendasi secara informatif kepada pengguna."
      ],
      "metadata": {
        "id": "8rTNqghlCOj0"
      }
    },
    {
      "cell_type": "code",
      "source": [
        "def display_collaborative_recommendations(user_id, top_n_dict, books_df, N=5):\n",
        "    \"\"\"\n",
        "    Menampilkan top-N rekomendasi untuk user tertentu dari hasil prediksi SVD.\n",
        "    \"\"\"\n",
        "    print(\"-\" * 70)\n",
        "    print(f\"Rekomendasi Collaborative Filtering untuk User {user_id}:\")\n",
        "    print(\"-\" * 70)\n",
        "\n",
        "    if user_id in top_n_dict:\n",
        "        recommendations = top_n_dict[user_id][:N]\n",
        "        print(f\"{'Rank':<5} {'ISBN':<15} {'Predicted Rating':<17} {'Book Title'}\")\n",
        "        print(\"-\" * 70)\n",
        "\n",
        "        for i, (isbn, pred_rating) in enumerate(recommendations, 1):\n",
        "            book_title = books_df[books_df['ISBN'] == isbn]['Book_Title']\n",
        "            title = book_title.iloc[0] if not book_title.empty else \"Unknown Title\"\n",
        "            print(f\"{i:<5} {isbn:<15} {pred_rating:<17.3f} {title}\")\n",
        "    else:\n",
        "        print(f\"User {user_id} tidak ditemukan dalam rekomendasi.\")\n",
        "\n",
        "    print(\"-\" * 70)\n",
        "    print(\"\\n\")\n"
      ],
      "metadata": {
        "id": "2TloDfJc_2PH"
      },
      "execution_count": 84,
      "outputs": []
    },
    {
      "cell_type": "markdown",
      "source": [
        "# **7. Evaluasi Model**"
      ],
      "metadata": {
        "id": "h8WR-1O-DM_Q"
      }
    },
    {
      "cell_type": "markdown",
      "source": [
        "## **7.1. Evaluasi Collaborative Filtering**"
      ],
      "metadata": {
        "id": "UTenIi49bl5w"
      }
    },
    {
      "cell_type": "code",
      "source": [
        "# Evaluasi dengan RMSE dan MAE\n",
        "rmse = accuracy.rmse(predictions, verbose=True)\n",
        "mae = accuracy.mae(predictions, verbose=True)\n",
        "\n",
        "print(f\"Root Mean Squared Error (RMSE): {rmse:.4f}\")\n",
        "print(f\"Mean Absolute Error (MAE): {mae:.4f}\")\n"
      ],
      "metadata": {
        "id": "F5Qx0QuNKI_1",
        "colab": {
          "base_uri": "https://localhost:8080/"
        },
        "outputId": "6cc64b8f-4604-4f86-f510-ba0cffe24694"
      },
      "execution_count": 85,
      "outputs": [
        {
          "output_type": "stream",
          "name": "stdout",
          "text": [
            "RMSE: 1.5831\n",
            "MAE:  1.2115\n",
            "Root Mean Squared Error (RMSE): 1.5831\n",
            "Mean Absolute Error (MAE): 1.2115\n"
          ]
        }
      ]
    },
    {
      "cell_type": "code",
      "source": [
        "# Visualisasi Evaluasi CF\n",
        "metrics = ['RMSE', 'MAE']\n",
        "values = [rmse, mae]\n",
        "\n",
        "plt.figure(figsize=(6, 4))\n",
        "bars = plt.bar(metrics, values, color=['steelblue', 'coral'])\n",
        "plt.title('Evaluation Metrics for SVD (Collaborative Filtering)')\n",
        "plt.ylabel('Error')\n",
        "plt.ylim(0, max(values)*1.2)\n",
        "plt.grid(axis='y', linestyle='--', alpha=0.7)\n",
        "\n",
        "for bar in bars:\n",
        "    height = bar.get_height()\n",
        "    plt.text(bar.get_x() + bar.get_width()/2., height + 0.01,\n",
        "             f'{height:.4f}', ha='center', va='bottom')\n",
        "\n",
        "plt.tight_layout()\n",
        "plt.show()"
      ],
      "metadata": {
        "id": "i7bQN6JfDPWl",
        "colab": {
          "base_uri": "https://localhost:8080/",
          "height": 401
        },
        "outputId": "a8377b65-d17b-4f4a-cad4-3d91bac82535"
      },
      "execution_count": 86,
      "outputs": [
        {
          "output_type": "display_data",
          "data": {
            "text/plain": [
              "<Figure size 600x400 with 1 Axes>"
            ],
            "image/png": "[encoded data removed]"
          },
          "metadata": {}
        }
      ]
    },
    {
      "cell_type": "markdown",
      "source": [
        "## **7.2. Evaluasi Content Based Filtering**"
      ],
      "metadata": {
        "id": "5uDDG-M1M5rS"
      }
    },
    {
      "cell_type": "code",
      "source": [
        "def evaluate_content_based(books_cb, similarity_matrix, title_idx_map, ratings_test_df, top_n=5, relevance_threshold=7.0):\n",
        "    \"\"\"\n",
        "    Evaluasi Content-Based Filtering dengan Precision@K dan Recall@K per user.\n",
        "    Mengembalikan rata-rata precision dan recall.\n",
        "    \"\"\"\n",
        "\n",
        "    # Menggunakan nama kolom yang benar 'User_ID'\n",
        "    user_ids = ratings_test_df['User_ID'].unique()\n",
        "    total_precision = 0\n",
        "    total_recall = 0\n",
        "    evaluated_users = 0\n",
        "\n",
        "    for user_id in user_ids:\n",
        "        # Menggunakan nama kolom yang benar 'User_ID' dan 'Book_Rating'\n",
        "        user_ratings = ratings_test_df[ratings_test_df['User_ID'] == user_id]\n",
        "\n",
        "        # Menggunakan nama kolom yang benar 'Book_Rating'\n",
        "        relevant_books = user_ratings[user_ratings['Book_Rating'] >= relevance_threshold]['ISBN'].unique().tolist()\n",
        "\n",
        "        if not relevant_books:\n",
        "            continue  # skip user tanpa buku relevan\n",
        "\n",
        "        recommended_books = set()\n",
        "\n",
        "        for isbn in relevant_books:\n",
        "            # Cari judul dari ISBN (karena mapping kita pakai judul)\n",
        "            book_row = books_cb[books_cb['ISBN'] == isbn]\n",
        "            if book_row.empty:\n",
        "                continue  # skip kalau ISBN tidak ada di books_cb\n",
        "\n",
        "            # Memastikan book_row tidak kosong sebelum mengakses index 0\n",
        "            if len(book_row) > 0:\n",
        "                title = book_row['Book_Title'].values[0]\n",
        "            else:\n",
        "                continue # Skip if book not found in books_cb for title lookup\n",
        "\n",
        "\n",
        "            # Ambil rekomendasi content-based\n",
        "            # Pastikan title_idx_map memiliki indeks yang sesuai\n",
        "            if title in title_idx_map:\n",
        "                result = get_content_based_recommendations(title, books_cb, similarity_matrix, title_idx_map, N=top_n)\n",
        "                if isinstance(result, str):\n",
        "                    continue  # error: judul tidak ditemukan\n",
        "                recommended_books.update(result['Book_Title'].values)\n",
        "            else:\n",
        "                continue # Skip if title not found in title_idx_map\n",
        "\n",
        "\n",
        "        # Pastikan ada recommended_books sebelum melanjutkan\n",
        "        if not recommended_books:\n",
        "            continue\n",
        "\n",
        "\n",
        "        # Buku yang benar-benar relevan bagi user\n",
        "        relevant_titles = books_cb[books_cb['ISBN'].isin(relevant_books)]['Book_Title'].values\n",
        "\n",
        "        # Precision dan Recall\n",
        "        # Avoid division by zero if no relevant_books or recommended_books found for the user\n",
        "        if len(relevant_books) > 0 and len(recommended_books) > 0:\n",
        "            hits = len(set(recommended_books).intersection(set(relevant_titles)))\n",
        "            precision = hits / (top_n * len(relevant_books))  # top_n rekomendasi * jumlah input\n",
        "            recall = hits / len(relevant_titles)\n",
        "\n",
        "            total_precision += precision\n",
        "            total_recall += recall\n",
        "            evaluated_users += 1\n",
        "\n",
        "    if evaluated_users == 0:\n",
        "        print(\"Tidak ada user yang valid untuk evaluasi.\")\n",
        "        return 0.0, 0.0\n",
        "\n",
        "    avg_precision = total_precision / evaluated_users\n",
        "    avg_recall = total_recall / evaluated_users\n",
        "\n",
        "    print(f\"Evaluasi Content-Based Filtering:\")\n",
        "    print(f\" - Jumlah user dievaluasi: {evaluated_users}\")\n",
        "    print(f\" - Average Precision@{top_n}: {avg_precision:.4f}\")\n",
        "    print(f\" - Average Recall@{top_n}: {avg_recall:.4f}\")\n",
        "\n",
        "    return avg_precision, avg_recall"
      ],
      "metadata": {
        "id": "zFn98_kdNDf2"
      },
      "execution_count": 87,
      "outputs": []
    },
    {
      "cell_type": "code",
      "source": [
        "# Misal ratings_test_df adalah DataFrame dari test data rating user\n",
        "# Contoh kolom: ['user_id', 'ISBN', 'rating']\n",
        "\n",
        "avg_precision, avg_recall = evaluate_content_based(\n",
        "    books_cb,\n",
        "    similarity_matrix,\n",
        "    title_idx_map,\n",
        "    final_ratings,\n",
        "    top_n=5,\n",
        "    relevance_threshold=5.0  # rating minimal dianggap relevan\n",
        ")\n"
      ],
      "metadata": {
        "id": "kNJvm32BNZCX",
        "colab": {
          "base_uri": "https://localhost:8080/"
        },
        "outputId": "3c3725f4-e5c3-41e3-b5a5-5946448e9c5d"
      },
      "execution_count": 88,
      "outputs": [
        {
          "output_type": "stream",
          "name": "stdout",
          "text": [
            "Evaluasi Content-Based Filtering:\n",
            " - Jumlah user dievaluasi: 10100\n",
            " - Average Precision@5: 0.0067\n",
            " - Average Recall@5: 0.0335\n"
          ]
        }
      ]
    },
    {
      "cell_type": "markdown",
      "source": [
        "# **8. Contoh Penggunaan & Hasil**"
      ],
      "metadata": {
        "id": "rsUutjVfTNCR"
      }
    },
    {
      "cell_type": "markdown",
      "source": [
        "Bagian ini menunjukkan bagaimana fungsi rekomendasi yang telah kita buat dapat digunakan untuk menghasilkan rekomendasi nyata untuk pengguna atau berdasarkan buku tertentu."
      ],
      "metadata": {
        "id": "C4na72gPVMac"
      }
    },
    {
      "cell_type": "markdown",
      "source": [
        "## **8.1. Content-Based-Recomendation**"
      ],
      "metadata": {
        "id": "QIa7pxpBVZcj"
      }
    },
    {
      "cell_type": "markdown",
      "source": [
        "Berikut adalah contoh rekomendasi Content-Based untuk buku \"The Great Gatsby\". Sistem akan mencari 5 buku lain berdasarkan penulis dan penerbit paling mirip."
      ],
      "metadata": {
        "id": "T8Oc9-jrV7Qg"
      }
    },
    {
      "cell_type": "code",
      "source": [
        "print(\"\\n--- Content-Based Recommendation ---\")\n",
        "# Use the original variable names defined earlier\n",
        "if books_cb is not None and not books_cb.empty and 'Book_Title' in books_cb.columns:\n",
        "    # Choose a sample title from the available books_cb data\n",
        "    sample_title_cbf = \"The Great Gatsby\"\n",
        "    if sample_title_cbf not in books_cb['Book_Title'].values:\n",
        "        # If \"The Great Gatsby\" is not in the dataset, pick the first available title\n",
        "        if not books_cb.empty:\n",
        "             sample_title_cbf = books_cb['Book_Title'].iloc[0]\n",
        "        else:\n",
        "             sample_title_cbf = None # No books available\n",
        "\n",
        "\n",
        "    # Use the original variable names defined earlier\n",
        "    if pd.notna(sample_title_cbf) and similarity_matrix is not None and title_idx_map is not None:\n",
        "        display_readable_cb_recommendations(sample_title_cbf, books_cb, similarity_matrix, title_idx_map, N=5)\n",
        "    else:\n",
        "        print(\"Judul tidak valid atau model CBF tidak tersedia.\")\n",
        "else:\n",
        "    print(\"Data buku untuk CBF tidak tersedia.\")\n",
        "\n"
      ],
      "metadata": {
        "id": "MmDZSpKNVhY6",
        "colab": {
          "base_uri": "https://localhost:8080/"
        },
        "outputId": "7f3330dc-063c-4ee2-97d3-06cbec7f0002"
      },
      "execution_count": 89,
      "outputs": [
        {
          "output_type": "stream",
          "name": "stdout",
          "text": [
            "\n",
            "--- Content-Based Recommendation ---\n",
            "----------------------------------------------------------------------\n",
            "Rekomendasi Content-Based untuk 'The Great Gatsby':\n",
            "----------------------------------------------------------------------\n",
            " Rank          Book_Title     Book_Author          Publisher Similarity Score\n",
            "    1   Manhunting (Mira) Jennifer Crusie               Mira            0.437\n",
            "    2 What The Lady Wants Jennifer Crusie               Mira            0.402\n",
            "    3  Strange Bedpersons Jennifer Crusie               Mira            0.398\n",
            "    4           Faking It Jennifer Crusie St. Martin's Press            0.250\n",
            "    5       Crazy for You Jennifer Crusie St. Martin's Press            0.249\n",
            "----------------------------------------------------------------------\n",
            "\n",
            "\n"
          ]
        }
      ]
    },
    {
      "cell_type": "markdown",
      "source": [
        "## **8.2. Collaborative Filtering Recomendation**"
      ],
      "metadata": {
        "id": "R0BWQquvWyVZ"
      }
    },
    {
      "cell_type": "markdown",
      "source": [
        "Di sini, kita menampilkan rekomendasi Collaborative Filtering Top-5 untuk beberapa pengguna sampel. Rekomendasi ini didasarkan pada prediksi rating tertinggi untuk film-film yang ada di testset (berdasarkan fungsi get_top_n_collaborative_recommendations)."
      ],
      "metadata": {
        "id": "ELfRzjayaxjc"
      }
    },
    {
      "cell_type": "code",
      "source": [
        "print(\"Generating Collaborative Filtering recommendations...\")\n",
        "top_n_recommendations = get_top_n_collaborative_recommendations(predictions, n=10)\n",
        "\n",
        "\n",
        "# Tampilkan rekomendasi untuk beberapa user\n",
        "sample_users = list(top_n_recommendations.keys())[:3]\n",
        "for user_id in sample_users:\n",
        "    display_collaborative_recommendations(user_id, top_n_recommendations, books_final, N=5)"
      ],
      "metadata": {
        "id": "Ez50XXhmfIUv",
        "colab": {
          "base_uri": "https://localhost:8080/"
        },
        "outputId": "a6d6ff22-0e75-422d-bc9a-473d9ef25a36"
      },
      "execution_count": 90,
      "outputs": [
        {
          "output_type": "stream",
          "name": "stdout",
          "text": [
            "Generating Collaborative Filtering recommendations...\n",
            "----------------------------------------------------------------------\n",
            "Rekomendasi Collaborative Filtering untuk User 80954:\n",
            "----------------------------------------------------------------------\n",
            "Rank  ISBN            Predicted Rating  Book Title\n",
            "----------------------------------------------------------------------\n",
            "1     0446679593      8.136             Suzanne's Diary for Nicholas\n",
            "2     015668568X      7.744             Old Possum's Book of Practical Cats, Illustrated Edition\n",
            "3     0684853515      7.284             Hearts In Atlantis : New Fiction\n",
            "----------------------------------------------------------------------\n",
            "\n",
            "\n",
            "----------------------------------------------------------------------\n",
            "Rekomendasi Collaborative Filtering untuk User 15497:\n",
            "----------------------------------------------------------------------\n",
            "Rank  ISBN            Predicted Rating  Book Title\n",
            "----------------------------------------------------------------------\n",
            "1     0679783571      8.145             The Broke Diaries: The Completely True and Hilarious Misadventures of a Good Girl Gone Broke\n",
            "2     0385335881      7.855             Shopaholic Takes Manhattan (Summer Display Opportunity)\n",
            "3     0440222842      7.774             Five Days in Paris\n",
            "----------------------------------------------------------------------\n",
            "\n",
            "\n",
            "----------------------------------------------------------------------\n",
            "Rekomendasi Collaborative Filtering untuk User 151370:\n",
            "----------------------------------------------------------------------\n",
            "Rank  ISBN            Predicted Rating  Book Title\n",
            "----------------------------------------------------------------------\n",
            "1     0553375407      8.246             Ishmael: An Adventure of the Mind and Spirit\n",
            "2     155874262X      7.970             Chicken Soup for the Soul (Chicken Soup for the Soul)\n",
            "----------------------------------------------------------------------\n",
            "\n",
            "\n"
          ]
        }
      ]
    },
    {
      "cell_type": "code",
      "source": [
        "print(\"\\n--- Collaborative Filtering Recommendation ---\")\n",
        "\n",
        "if predictions:\n",
        "    top_n = get_top_n_collaborative_recommendations(predictions, n=10)\n",
        "    sample_users = list(top_n.keys())[:3]\n",
        "\n",
        "    if sample_users:\n",
        "        for user_id in sample_users:\n",
        "            display_collaborative_recommendations(user_id, top_n, books_final, N=5)\n",
        "    else:\n",
        "        print(\"Tidak ada user dengan rekomendasi CF.\")\n",
        "else:\n",
        "    print(\"Prediksi Collaborative Filtering tidak tersedia.\")"
      ],
      "metadata": {
        "id": "lkjsFaSnViM9",
        "colab": {
          "base_uri": "https://localhost:8080/"
        },
        "outputId": "486522ca-0dba-4bab-b85e-6907db8a47c0"
      },
      "execution_count": 91,
      "outputs": [
        {
          "output_type": "stream",
          "name": "stdout",
          "text": [
            "\n",
            "--- Collaborative Filtering Recommendation ---\n",
            "----------------------------------------------------------------------\n",
            "Rekomendasi Collaborative Filtering untuk User 80954:\n",
            "----------------------------------------------------------------------\n",
            "Rank  ISBN            Predicted Rating  Book Title\n",
            "----------------------------------------------------------------------\n",
            "1     0446679593      8.136             Suzanne's Diary for Nicholas\n",
            "2     015668568X      7.744             Old Possum's Book of Practical Cats, Illustrated Edition\n",
            "3     0684853515      7.284             Hearts In Atlantis : New Fiction\n",
            "----------------------------------------------------------------------\n",
            "\n",
            "\n",
            "----------------------------------------------------------------------\n",
            "Rekomendasi Collaborative Filtering untuk User 15497:\n",
            "----------------------------------------------------------------------\n",
            "Rank  ISBN            Predicted Rating  Book Title\n",
            "----------------------------------------------------------------------\n",
            "1     0679783571      8.145             The Broke Diaries: The Completely True and Hilarious Misadventures of a Good Girl Gone Broke\n",
            "2     0385335881      7.855             Shopaholic Takes Manhattan (Summer Display Opportunity)\n",
            "3     0440222842      7.774             Five Days in Paris\n",
            "----------------------------------------------------------------------\n",
            "\n",
            "\n",
            "----------------------------------------------------------------------\n",
            "Rekomendasi Collaborative Filtering untuk User 151370:\n",
            "----------------------------------------------------------------------\n",
            "Rank  ISBN            Predicted Rating  Book Title\n",
            "----------------------------------------------------------------------\n",
            "1     0553375407      8.246             Ishmael: An Adventure of the Mind and Spirit\n",
            "2     155874262X      7.970             Chicken Soup for the Soul (Chicken Soup for the Soul)\n",
            "----------------------------------------------------------------------\n",
            "\n",
            "\n"
          ]
        }
      ]
    },
    {
      "cell_type": "markdown",
      "source": [
        "## **8.3. Prediksi Rating Spesifik (Collaborative Filtering)**"
      ],
      "metadata": {
        "id": "i-_l3z6TbXQq"
      }
    },
    {
      "cell_type": "markdown",
      "source": [
        " Model CF (SVD) dapat digunakan untuk memprediksi rating yang mungkin diberikan oleh seorang pengguna untuk buku tertentu yang belum ia baca. Ini berguna untuk memberikan gambaran seberapa besar kemungkinan pengguna akan menyukai buku tersebut."
      ],
      "metadata": {
        "id": "9YGtco1Ha8b6"
      }
    },
    {
      "cell_type": "code",
      "source": [
        "# --- Prediksi Rating Spesifik (CF) ---\n",
        "print(\"\\n--- Prediksi Rating Spesifik (Collaborative Filtering) ---\")\n",
        "if algo_svd:\n",
        "    if testset and len(testset) > 0:\n",
        "        user_id_cf_example = testset[0][0]\n",
        "    elif final_ratings and not final_ratings.empty:\n",
        "         user_id_cf_example = final_ratings['User_ID'].iloc[0]\n",
        "\n",
        "\n",
        "    # Choose ISBNs that exist in the final_ratings or testset\n",
        "    isbn_list_cf_example = []\n",
        "    if testset and len(testset) > 1:\n",
        "         # Pick a couple of ISBNs from the testset\n",
        "         isbn_list_cf_example.append(testset[0][1])\n",
        "         isbn_list_cf_example.append(testset[1][1])\n",
        "    elif final_ratings and not final_ratings.empty and final_ratings['ISBN'].nunique() > 1:\n",
        "        # Pick a couple of unique ISBNs from the final_ratings\n",
        "        isbn_list_cf_example = final_ratings['ISBN'].unique().tolist()[:2]\n",
        "\n",
        "    if user_id_cf_example is not None and isbn_list_cf_example:\n",
        "        user_id = user_id_cf_example\n",
        "        isbn_list = isbn_list_cf_example\n",
        "\n",
        "        # Use 'books_final' or 'books_cb' for looking up book titles\n",
        "        books_for_title_lookup = books_final # Use 'books_final'\n",
        "\n",
        "        for i, isbn in enumerate(isbn_list, start=1):\n",
        "            title = \"Judul Tidak Diketahui\"\n",
        "            if books_for_title_lookup is not None and not books_for_title_lookup.empty:\n",
        "                match = books_for_title_lookup.loc[books_for_title_lookup['ISBN'] == isbn, 'Book_Title']\n",
        "                if not match.empty:\n",
        "                    title = match.iloc[0]\n",
        "\n",
        "            prediction = algo_svd.predict(uid=user_id, iid=isbn)\n",
        "            print(f\"\\n--- Prediksi untuk User {user_id} pada '{title}' (ISBN: {isbn}) ---\")\n",
        "            print(f\"Estimasi Rating: {prediction.est:.3f}\")\n",
        "    else:\n",
        "        print(\"Tidak cukup data untuk contoh prediksi rating spesifik.\")\n",
        "\n",
        "else:\n",
        "    print(\"Model SVD tidak tersedia.\")\n",
        "\n",
        "print(\"\\n=== CONTOH PENGGUNAAN SELESAI ===\")"
      ],
      "metadata": {
        "id": "YEukzbnETQdA",
        "colab": {
          "base_uri": "https://localhost:8080/"
        },
        "outputId": "5e58c5f9-f022-4d5b-dfd4-70afc558c329"
      },
      "execution_count": 92,
      "outputs": [
        {
          "output_type": "stream",
          "name": "stdout",
          "text": [
            "\n",
            "--- Prediksi Rating Spesifik (Collaborative Filtering) ---\n",
            "\n",
            "--- Prediksi untuk User 80954 pada 'Hearts In Atlantis : New Fiction' (ISBN: 0684853515) ---\n",
            "Estimasi Rating: 7.284\n",
            "\n",
            "--- Prediksi untuk User 80954 pada 'The Broke Diaries: The Completely True and Hilarious Misadventures of a Good Girl Gone Broke' (ISBN: 0679783571) ---\n",
            "Estimasi Rating: 7.783\n",
            "\n",
            "=== CONTOH PENGGUNAAN SELESAI ===\n"
          ]
        }
      ]
    },
    {
      "cell_type": "code",
      "source": [],
      "metadata": {
        "id": "WoIZtv4eTRq5"
      },
      "execution_count": 92,
      "outputs": []
    }
  ]
}